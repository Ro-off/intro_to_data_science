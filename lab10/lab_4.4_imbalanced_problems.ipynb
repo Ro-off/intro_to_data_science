{
 "cells": [
  {
   "cell_type": "markdown",
   "metadata": {
    "id": "JOOi0jkwdQ60"
   },
   "source": [
    "### <Center> Лабораторна робота №10. <br> Робота з незбалансованими вибірками"
   ]
  },
  {
   "cell_type": "markdown",
   "metadata": {
    "id": "AQtWVLF3dmsB"
   },
   "source": [
    "**Спочатку налаштуємо доступ до даних на google drive (якщо ви відкриваєте блокнот в google colab, а не на PC) шляхом монтування google drive**"
   ]
  },
  {
   "cell_type": "code",
   "execution_count": null,
   "metadata": {
    "colab": {
     "base_uri": "https://localhost:8080/"
    },
    "executionInfo": {
     "elapsed": 19434,
     "status": "ok",
     "timestamp": 1667160446614,
     "user": {
      "displayName": "Москаленко В'ячеслав Васильович",
      "userId": "09799116143807457878"
     },
     "user_tz": -180
    },
    "id": "b5XeBEQXdjoP",
    "outputId": "0ec3ca4f-babe-4d8a-b016-4f52e51c841f"
   },
   "outputs": [],
   "source": [
    "# from google.colab import drive\n",
    "# drive.mount('/content/gdrive') "
   ]
  },
  {
   "cell_type": "markdown",
   "metadata": {
    "id": "oq27eVSud1S2"
   },
   "source": [
    "Перевіримо шлях до папки з матеріалами лаборатоної роботи на google drive. Якщо у вас шлях відрізняється то відредагуйте"
   ]
  },
  {
   "cell_type": "code",
   "execution_count": null,
   "metadata": {
    "colab": {
     "base_uri": "https://localhost:8080/"
    },
    "executionInfo": {
     "elapsed": 1468,
     "status": "ok",
     "timestamp": 1667160457920,
     "user": {
      "displayName": "Москаленко В'ячеслав Васильович",
      "userId": "09799116143807457878"
     },
     "user_tz": -180
    },
    "id": "L-rGI-SHd2RR",
    "outputId": "6190cb8a-ee66-4d06-d3f2-485323b5bca2"
   },
   "outputs": [],
   "source": [
    "# !ls /content/gdrive/MyDrive/TEACHING/IntroDataScience/intro_to_data_science/Lab_topic_4/"
   ]
  },
  {
   "cell_type": "markdown",
   "metadata": {
    "id": "4K1WzAimd71L"
   },
   "source": [
    "Перемістимо матеріали лабораторної роботи з google drive на віртуальну машину google colab"
   ]
  },
  {
   "cell_type": "code",
   "execution_count": null,
   "metadata": {
    "colab": {
     "base_uri": "https://localhost:8080/"
    },
    "executionInfo": {
     "elapsed": 8876,
     "status": "ok",
     "timestamp": 1667160470136,
     "user": {
      "displayName": "Москаленко В'ячеслав Васильович",
      "userId": "09799116143807457878"
     },
     "user_tz": -180
    },
    "id": "S7iyqPTUd8f6",
    "outputId": "7b6ca418-d296-42f1-99f5-d71b37bf9f51"
   },
   "outputs": [],
   "source": [
    "# !cp -a /content/gdrive/MyDrive/TEACHING/IntroDataScience/intro_to_data_science/Lab_topic_4/. .\n",
    "# !ls"
   ]
  },
  {
   "cell_type": "markdown",
   "metadata": {
    "id": "Td_IRGUMdQ64"
   },
   "source": [
    "## Коротка постановка проблеми\n",
    "\n",
    "У задачах класифікації баланс класів часто порушується, і зазвичай саме менший клас є цільовим.\n",
    "\n",
    "Фрод, відмови техніки, позитивні медичні діагнози, небажана видача в пошуковику, відтік - лише частина прикладів таких завдань.\n",
    "\n",
    "Чому звичайні алгоритми (без шаманства) не дуже добре працюють?\n",
    "\n",
    "Якщо в загальних рисах, то справа в тому, що всередині багатьох алгоритмів зашита будь-яка оптимізація [loss] (https://en.wikipedia.org/wiki/Loss_function) -функції, часто вже не враховує баланс класів у вибірці. Саме тому модель прагне передбачити якомога ** більше ** об'єктів більшого класу, ігноруючи менший клас, але знижуючи загальний error-rate.\n",
    "\n",
    "У цій лабораторній роботі ми розглянемо деякі методи, які дозволяють боротися з проблемою нерівних класів."
   ]
  },
  {
   "cell_type": "markdown",
   "metadata": {
    "id": "CRXNJLkFdQ67"
   },
   "source": [
    "Як модельний датасет використаємо дані про раздачі в покері (hand), де ознаками є карти (масть -- Suit, ранг -- C), а target -- Poker Hand, тобто різноманітні комбінації наявних карт. Датасет можна скачати [тут](https://archive.ics.uci.edu/ml/datasets/Poker+Hand)"
   ]
  },
  {
   "cell_type": "markdown",
   "metadata": {
    "id": "v9BRYBqXdQ6-"
   },
   "source": [
    "Коротний опис ознак (features) датасету:\n",
    "\n",
    "```\n",
    "1) S1 \"Suit of card #1\" \n",
    "Ordinal (1-4) representing {Hearts, Spades, Diamonds, Clubs} \n",
    "\n",
    "2) C1 \"Rank of card #1\" \n",
    "Numerical (1-13) representing (Ace, 2, 3, ... , Queen, King\n",
    "```"
   ]
  },
  {
   "cell_type": "markdown",
   "metadata": {
    "id": "0QnePnqedQ7A"
   },
   "source": [
    "Короткий опис цільової мітки (target) для [датасету](https://archive.ics.uci.edu/ml/datasets/Poker+Hand):\n",
    "\n",
    "```\n",
    "0: Nothing in hand; not a recognized poker hand\n",
    "1: One pair; one pair of equal ranks within five cards\n",
    "2: Two pairs; two pairs of equal ranks within five cards\n",
    "3: Three of a kind; three equal ranks within five cards\n",
    "4: Straight; five cards, sequentially ranked with no gaps\n",
    "5: Flush; five cards with the same suit\n",
    "6: Full house; pair + different rank three of a kind\n",
    "7: Four of a kind; four equal ranks within five cards\n",
    "8: Straight flush; straight + flush\n",
    "9: Royal flush; {Ace, King, Queen, Jack, Ten} + flush \n",
    "```\n",
    "\n",
    "Чим більша цифра, тим рідше клас і тим виграшніша позиція."
   ]
  },
  {
   "cell_type": "markdown",
   "metadata": {
    "id": "SbVE2oUXdQ7C"
   },
   "source": [
    "Для прикладів нам знадобиться .py [скрипт](https://github.com/silicon-valley-data-science/learning-from-imbalanced-classes/blob/master/blagging.py) blagging.py, який можно просто покласти поруч рядом с ноутбуком, а также библиотека [imbalanced-learn](http://contrib.scikit-learn.org/imbalanced-learn/index.html):\n",
    "\n",
    "`pip install -U imbalanced-learn`"
   ]
  },
  {
   "cell_type": "code",
   "execution_count": null,
   "metadata": {
    "colab": {
     "base_uri": "https://localhost:8080/"
    },
    "executionInfo": {
     "elapsed": 6380,
     "status": "ok",
     "timestamp": 1667160482753,
     "user": {
      "displayName": "Москаленко В'ячеслав Васильович",
      "userId": "09799116143807457878"
     },
     "user_tz": -180
    },
    "id": "DPhJQwTZeP9Z",
    "outputId": "3450cf2f-a29a-49a4-edbc-b0b622824baa"
   },
   "outputs": [],
   "source": [
    "# !pip install -U imbalanced-learn"
   ]
  },
  {
   "cell_type": "code",
   "execution_count": 5,
   "metadata": {
    "colab": {
     "base_uri": "https://localhost:8080/"
    },
    "executionInfo": {
     "elapsed": 2443,
     "status": "ok",
     "timestamp": 1667160662839,
     "user": {
      "displayName": "Москаленко В'ячеслав Васильович",
      "userId": "09799116143807457878"
     },
     "user_tz": -180
    },
    "id": "8DpKUzhbdQ7E",
    "outputId": "cc14f225-4773-4342-9d81-15941813f542"
   },
   "outputs": [],
   "source": [
    "# Завантаження бібліотек\n",
    "\n",
    "import matplotlib.pyplot as plt\n",
    "import numpy as np\n",
    "import pandas as pd\n",
    "\n",
    "from sklearn import neighbors\n",
    "from sklearn.metrics import auc, roc_curve\n",
    "from sklearn.model_selection import StratifiedKFold\n",
    "from sklearn.preprocessing import OneHotEncoder\n",
    "from sklearn.linear_model import LogisticRegression\n",
    "from sklearn.ensemble import RandomForestClassifier, GradientBoostingClassifier, ExtraTreesClassifier\n",
    "from sklearn.metrics import auc, roc_auc_score, roc_curve, precision_recall_curve\n",
    "%matplotlib inline\n",
    "plt.rcParams['figure.figsize'] = (10, 8)"
   ]
  },
  {
   "cell_type": "markdown",
   "metadata": {
    "id": "4ULk4-W1dQ7Y"
   },
   "source": [
    "## Внутрішні параметри алгоритмів для врахування незбалансованості класів\n"
   ]
  },
  {
   "cell_type": "markdown",
   "metadata": {
    "id": "A9NFnnhpdQ7b"
   },
   "source": [
    "Завантажимо дані і подивимося на них:"
   ]
  },
  {
   "cell_type": "code",
   "execution_count": 6,
   "metadata": {
    "executionInfo": {
     "elapsed": 230,
     "status": "ok",
     "timestamp": 1667160667023,
     "user": {
      "displayName": "Москаленко В'ячеслав Васильович",
      "userId": "09799116143807457878"
     },
     "user_tz": -180
    },
    "id": "2l7EwHSadQ7d"
   },
   "outputs": [],
   "source": [
    "def load_and_prepare_data():\n",
    "    \n",
    "    # Завантажимо дані і подивимося на них\n",
    "\n",
    "    df = pd.read_csv('data/poker-hand-training-true.data', \n",
    "                     names=['Suit1', 'C1', 'Suit2', 'C2', 'Suit3', \n",
    "                            'C3', 'Suit4', 'C4', 'Suit5', 'C5', 'CLASS'])\n",
    "    \n",
    "    # кодування порядкових (ordinal) ознак -- окрема тема, тут обійдемося one-hot\n",
    "\n",
    "    ordinal_columns = [col for col in df.columns if 'Suit' in col]\n",
    "\n",
    "    ohe = OneHotEncoder(sparse_output=False)\n",
    "    encoded_ordinal = ohe.fit_transform(df[ordinal_columns])\n",
    "\n",
    "    # видаляємо оригінальні колонки\n",
    "    df.drop(ordinal_columns, axis=1, inplace=True)\n",
    "    \n",
    "    tmp = pd.DataFrame(encoded_ordinal, columns=['S ' + str(i) for i in range(encoded_ordinal.shape[1])])\n",
    "    df = pd.concat([df, tmp], axis=1)\n",
    "    \n",
    "    return df"
   ]
  },
  {
   "cell_type": "code",
   "execution_count": 7,
   "metadata": {
    "colab": {
     "base_uri": "https://localhost:8080/"
    },
    "executionInfo": {
     "elapsed": 433,
     "status": "ok",
     "timestamp": 1667160670319,
     "user": {
      "displayName": "Москаленко В'ячеслав Васильович",
      "userId": "09799116143807457878"
     },
     "user_tz": -180
    },
    "id": "ZUouAu7KdQ7l",
    "outputId": "04e04f11-54b4-4b95-a201-28abfeeef2fc"
   },
   "outputs": [],
   "source": [
    "df = load_and_prepare_data()"
   ]
  },
  {
   "cell_type": "code",
   "execution_count": 8,
   "metadata": {
    "colab": {
     "base_uri": "https://localhost:8080/",
     "height": 392
    },
    "executionInfo": {
     "elapsed": 234,
     "status": "ok",
     "timestamp": 1667160673685,
     "user": {
      "displayName": "Москаленко В'ячеслав Васильович",
      "userId": "09799116143807457878"
     },
     "user_tz": -180
    },
    "id": "S4-5FOdEdQ7v",
    "outputId": "049d5b04-37c6-4630-f885-a735bcef42bd"
   },
   "outputs": [
    {
     "data": {
      "text/html": [
       "<div>\n",
       "<style scoped>\n",
       "    .dataframe tbody tr th:only-of-type {\n",
       "        vertical-align: middle;\n",
       "    }\n",
       "\n",
       "    .dataframe tbody tr th {\n",
       "        vertical-align: top;\n",
       "    }\n",
       "\n",
       "    .dataframe thead th {\n",
       "        text-align: right;\n",
       "    }\n",
       "</style>\n",
       "<table border=\"1\" class=\"dataframe\">\n",
       "  <thead>\n",
       "    <tr style=\"text-align: right;\">\n",
       "      <th></th>\n",
       "      <th>C1</th>\n",
       "      <th>C2</th>\n",
       "      <th>C3</th>\n",
       "      <th>C4</th>\n",
       "      <th>C5</th>\n",
       "      <th>CLASS</th>\n",
       "      <th>S 0</th>\n",
       "      <th>S 1</th>\n",
       "      <th>S 2</th>\n",
       "      <th>S 3</th>\n",
       "      <th>...</th>\n",
       "      <th>S 10</th>\n",
       "      <th>S 11</th>\n",
       "      <th>S 12</th>\n",
       "      <th>S 13</th>\n",
       "      <th>S 14</th>\n",
       "      <th>S 15</th>\n",
       "      <th>S 16</th>\n",
       "      <th>S 17</th>\n",
       "      <th>S 18</th>\n",
       "      <th>S 19</th>\n",
       "    </tr>\n",
       "  </thead>\n",
       "  <tbody>\n",
       "    <tr>\n",
       "      <th>0</th>\n",
       "      <td>10</td>\n",
       "      <td>11</td>\n",
       "      <td>13</td>\n",
       "      <td>12</td>\n",
       "      <td>1</td>\n",
       "      <td>9</td>\n",
       "      <td>1.0</td>\n",
       "      <td>0.0</td>\n",
       "      <td>0.0</td>\n",
       "      <td>0.0</td>\n",
       "      <td>...</td>\n",
       "      <td>0.0</td>\n",
       "      <td>0.0</td>\n",
       "      <td>1.0</td>\n",
       "      <td>0.0</td>\n",
       "      <td>0.0</td>\n",
       "      <td>0.0</td>\n",
       "      <td>1.0</td>\n",
       "      <td>0.0</td>\n",
       "      <td>0.0</td>\n",
       "      <td>0.0</td>\n",
       "    </tr>\n",
       "    <tr>\n",
       "      <th>1</th>\n",
       "      <td>11</td>\n",
       "      <td>13</td>\n",
       "      <td>10</td>\n",
       "      <td>12</td>\n",
       "      <td>1</td>\n",
       "      <td>9</td>\n",
       "      <td>0.0</td>\n",
       "      <td>1.0</td>\n",
       "      <td>0.0</td>\n",
       "      <td>0.0</td>\n",
       "      <td>...</td>\n",
       "      <td>0.0</td>\n",
       "      <td>0.0</td>\n",
       "      <td>0.0</td>\n",
       "      <td>1.0</td>\n",
       "      <td>0.0</td>\n",
       "      <td>0.0</td>\n",
       "      <td>0.0</td>\n",
       "      <td>1.0</td>\n",
       "      <td>0.0</td>\n",
       "      <td>0.0</td>\n",
       "    </tr>\n",
       "    <tr>\n",
       "      <th>2</th>\n",
       "      <td>12</td>\n",
       "      <td>11</td>\n",
       "      <td>13</td>\n",
       "      <td>10</td>\n",
       "      <td>1</td>\n",
       "      <td>9</td>\n",
       "      <td>0.0</td>\n",
       "      <td>0.0</td>\n",
       "      <td>1.0</td>\n",
       "      <td>0.0</td>\n",
       "      <td>...</td>\n",
       "      <td>1.0</td>\n",
       "      <td>0.0</td>\n",
       "      <td>0.0</td>\n",
       "      <td>0.0</td>\n",
       "      <td>1.0</td>\n",
       "      <td>0.0</td>\n",
       "      <td>0.0</td>\n",
       "      <td>0.0</td>\n",
       "      <td>1.0</td>\n",
       "      <td>0.0</td>\n",
       "    </tr>\n",
       "    <tr>\n",
       "      <th>3</th>\n",
       "      <td>10</td>\n",
       "      <td>11</td>\n",
       "      <td>1</td>\n",
       "      <td>13</td>\n",
       "      <td>12</td>\n",
       "      <td>9</td>\n",
       "      <td>0.0</td>\n",
       "      <td>0.0</td>\n",
       "      <td>0.0</td>\n",
       "      <td>1.0</td>\n",
       "      <td>...</td>\n",
       "      <td>0.0</td>\n",
       "      <td>1.0</td>\n",
       "      <td>0.0</td>\n",
       "      <td>0.0</td>\n",
       "      <td>0.0</td>\n",
       "      <td>1.0</td>\n",
       "      <td>0.0</td>\n",
       "      <td>0.0</td>\n",
       "      <td>0.0</td>\n",
       "      <td>1.0</td>\n",
       "    </tr>\n",
       "    <tr>\n",
       "      <th>4</th>\n",
       "      <td>1</td>\n",
       "      <td>13</td>\n",
       "      <td>12</td>\n",
       "      <td>11</td>\n",
       "      <td>10</td>\n",
       "      <td>9</td>\n",
       "      <td>0.0</td>\n",
       "      <td>0.0</td>\n",
       "      <td>0.0</td>\n",
       "      <td>1.0</td>\n",
       "      <td>...</td>\n",
       "      <td>0.0</td>\n",
       "      <td>1.0</td>\n",
       "      <td>0.0</td>\n",
       "      <td>0.0</td>\n",
       "      <td>0.0</td>\n",
       "      <td>1.0</td>\n",
       "      <td>0.0</td>\n",
       "      <td>0.0</td>\n",
       "      <td>0.0</td>\n",
       "      <td>1.0</td>\n",
       "    </tr>\n",
       "    <tr>\n",
       "      <th>5</th>\n",
       "      <td>2</td>\n",
       "      <td>4</td>\n",
       "      <td>5</td>\n",
       "      <td>3</td>\n",
       "      <td>6</td>\n",
       "      <td>8</td>\n",
       "      <td>1.0</td>\n",
       "      <td>0.0</td>\n",
       "      <td>0.0</td>\n",
       "      <td>0.0</td>\n",
       "      <td>...</td>\n",
       "      <td>0.0</td>\n",
       "      <td>0.0</td>\n",
       "      <td>1.0</td>\n",
       "      <td>0.0</td>\n",
       "      <td>0.0</td>\n",
       "      <td>0.0</td>\n",
       "      <td>1.0</td>\n",
       "      <td>0.0</td>\n",
       "      <td>0.0</td>\n",
       "      <td>0.0</td>\n",
       "    </tr>\n",
       "    <tr>\n",
       "      <th>6</th>\n",
       "      <td>9</td>\n",
       "      <td>12</td>\n",
       "      <td>10</td>\n",
       "      <td>11</td>\n",
       "      <td>13</td>\n",
       "      <td>8</td>\n",
       "      <td>1.0</td>\n",
       "      <td>0.0</td>\n",
       "      <td>0.0</td>\n",
       "      <td>0.0</td>\n",
       "      <td>...</td>\n",
       "      <td>0.0</td>\n",
       "      <td>0.0</td>\n",
       "      <td>1.0</td>\n",
       "      <td>0.0</td>\n",
       "      <td>0.0</td>\n",
       "      <td>0.0</td>\n",
       "      <td>1.0</td>\n",
       "      <td>0.0</td>\n",
       "      <td>0.0</td>\n",
       "      <td>0.0</td>\n",
       "    </tr>\n",
       "    <tr>\n",
       "      <th>7</th>\n",
       "      <td>1</td>\n",
       "      <td>2</td>\n",
       "      <td>3</td>\n",
       "      <td>4</td>\n",
       "      <td>5</td>\n",
       "      <td>8</td>\n",
       "      <td>0.0</td>\n",
       "      <td>1.0</td>\n",
       "      <td>0.0</td>\n",
       "      <td>0.0</td>\n",
       "      <td>...</td>\n",
       "      <td>0.0</td>\n",
       "      <td>0.0</td>\n",
       "      <td>0.0</td>\n",
       "      <td>1.0</td>\n",
       "      <td>0.0</td>\n",
       "      <td>0.0</td>\n",
       "      <td>0.0</td>\n",
       "      <td>1.0</td>\n",
       "      <td>0.0</td>\n",
       "      <td>0.0</td>\n",
       "    </tr>\n",
       "    <tr>\n",
       "      <th>8</th>\n",
       "      <td>5</td>\n",
       "      <td>6</td>\n",
       "      <td>9</td>\n",
       "      <td>7</td>\n",
       "      <td>8</td>\n",
       "      <td>8</td>\n",
       "      <td>0.0</td>\n",
       "      <td>0.0</td>\n",
       "      <td>1.0</td>\n",
       "      <td>0.0</td>\n",
       "      <td>...</td>\n",
       "      <td>1.0</td>\n",
       "      <td>0.0</td>\n",
       "      <td>0.0</td>\n",
       "      <td>0.0</td>\n",
       "      <td>1.0</td>\n",
       "      <td>0.0</td>\n",
       "      <td>0.0</td>\n",
       "      <td>0.0</td>\n",
       "      <td>1.0</td>\n",
       "      <td>0.0</td>\n",
       "    </tr>\n",
       "    <tr>\n",
       "      <th>9</th>\n",
       "      <td>1</td>\n",
       "      <td>4</td>\n",
       "      <td>2</td>\n",
       "      <td>3</td>\n",
       "      <td>5</td>\n",
       "      <td>8</td>\n",
       "      <td>0.0</td>\n",
       "      <td>0.0</td>\n",
       "      <td>0.0</td>\n",
       "      <td>1.0</td>\n",
       "      <td>...</td>\n",
       "      <td>0.0</td>\n",
       "      <td>1.0</td>\n",
       "      <td>0.0</td>\n",
       "      <td>0.0</td>\n",
       "      <td>0.0</td>\n",
       "      <td>1.0</td>\n",
       "      <td>0.0</td>\n",
       "      <td>0.0</td>\n",
       "      <td>0.0</td>\n",
       "      <td>1.0</td>\n",
       "    </tr>\n",
       "  </tbody>\n",
       "</table>\n",
       "<p>10 rows × 26 columns</p>\n",
       "</div>"
      ],
      "text/plain": [
       "   C1  C2  C3  C4  C5  CLASS  S 0  S 1  S 2  S 3  ...  S 10  S 11  S 12  S 13  \\\n",
       "0  10  11  13  12   1      9  1.0  0.0  0.0  0.0  ...   0.0   0.0   1.0   0.0   \n",
       "1  11  13  10  12   1      9  0.0  1.0  0.0  0.0  ...   0.0   0.0   0.0   1.0   \n",
       "2  12  11  13  10   1      9  0.0  0.0  1.0  0.0  ...   1.0   0.0   0.0   0.0   \n",
       "3  10  11   1  13  12      9  0.0  0.0  0.0  1.0  ...   0.0   1.0   0.0   0.0   \n",
       "4   1  13  12  11  10      9  0.0  0.0  0.0  1.0  ...   0.0   1.0   0.0   0.0   \n",
       "5   2   4   5   3   6      8  1.0  0.0  0.0  0.0  ...   0.0   0.0   1.0   0.0   \n",
       "6   9  12  10  11  13      8  1.0  0.0  0.0  0.0  ...   0.0   0.0   1.0   0.0   \n",
       "7   1   2   3   4   5      8  0.0  1.0  0.0  0.0  ...   0.0   0.0   0.0   1.0   \n",
       "8   5   6   9   7   8      8  0.0  0.0  1.0  0.0  ...   1.0   0.0   0.0   0.0   \n",
       "9   1   4   2   3   5      8  0.0  0.0  0.0  1.0  ...   0.0   1.0   0.0   0.0   \n",
       "\n",
       "   S 14  S 15  S 16  S 17  S 18  S 19  \n",
       "0   0.0   0.0   1.0   0.0   0.0   0.0  \n",
       "1   0.0   0.0   0.0   1.0   0.0   0.0  \n",
       "2   1.0   0.0   0.0   0.0   1.0   0.0  \n",
       "3   0.0   1.0   0.0   0.0   0.0   1.0  \n",
       "4   0.0   1.0   0.0   0.0   0.0   1.0  \n",
       "5   0.0   0.0   1.0   0.0   0.0   0.0  \n",
       "6   0.0   0.0   1.0   0.0   0.0   0.0  \n",
       "7   0.0   0.0   0.0   1.0   0.0   0.0  \n",
       "8   1.0   0.0   0.0   0.0   1.0   0.0  \n",
       "9   0.0   1.0   0.0   0.0   0.0   1.0  \n",
       "\n",
       "[10 rows x 26 columns]"
      ]
     },
     "execution_count": 8,
     "metadata": {},
     "output_type": "execute_result"
    }
   ],
   "source": [
    "df.head(10)"
   ]
  },
  {
   "cell_type": "markdown",
   "metadata": {
    "id": "OCJ4SHdRdQ77"
   },
   "source": [
    "Поглянемо на розподіл класів у вибірці, щоб оцінити незбалансованість даних."
   ]
  },
  {
   "cell_type": "code",
   "execution_count": 9,
   "metadata": {
    "colab": {
     "base_uri": "https://localhost:8080/"
    },
    "executionInfo": {
     "elapsed": 289,
     "status": "ok",
     "timestamp": 1667160676626,
     "user": {
      "displayName": "Москаленко В'ячеслав Васильович",
      "userId": "09799116143807457878"
     },
     "user_tz": -180
    },
    "id": "QAaJS0oZdQ79",
    "outputId": "a214157f-5d86-4dbc-f1be-55145808c758"
   },
   "outputs": [
    {
     "name": "stdout",
     "output_type": "stream",
     "text": [
      "Initial class percentages: \n",
      "\n"
     ]
    },
    {
     "data": {
      "text/plain": [
       "CLASS\n",
       "0    12493\n",
       "1    10599\n",
       "2     1206\n",
       "3      513\n",
       "4       93\n",
       "5       54\n",
       "6       36\n",
       "7        6\n",
       "8        5\n",
       "9        5\n",
       "Name: count, dtype: int64"
      ]
     },
     "execution_count": 9,
     "metadata": {},
     "output_type": "execute_result"
    }
   ],
   "source": [
    "# Розподіл класів у вибірці\n",
    "\n",
    "print(\"Initial class percentages: \\n\")\n",
    "df.CLASS.value_counts()"
   ]
  },
  {
   "cell_type": "code",
   "execution_count": 10,
   "metadata": {
    "executionInfo": {
     "elapsed": 304,
     "status": "ok",
     "timestamp": 1667160679360,
     "user": {
      "displayName": "Москаленко В'ячеслав Васильович",
      "userId": "09799116143807457878"
     },
     "user_tz": -180
    },
    "id": "3XwnwlfqdQ8H"
   },
   "outputs": [],
   "source": [
    "X = df.drop('CLASS', axis=1).values\n",
    "y = df.CLASS"
   ]
  },
  {
   "cell_type": "markdown",
   "metadata": {
    "id": "NaMgoRpcdQ8N"
   },
   "source": [
    "Подивимося на якість алгоритмів as is, попередньо разбивши дані на train і test.\n",
    "\n",
    "Під час перегляду метрик рекомендую особливо звертати увагу на `recall` класів чи на F1-міру."
   ]
  },
  {
   "cell_type": "code",
   "execution_count": 11,
   "metadata": {
    "colab": {
     "base_uri": "https://localhost:8080/"
    },
    "executionInfo": {
     "elapsed": 231,
     "status": "ok",
     "timestamp": 1667160681575,
     "user": {
      "displayName": "Москаленко В'ячеслав Васильович",
      "userId": "09799116143807457878"
     },
     "user_tz": -180
    },
    "id": "3IpoasXsdQ8O",
    "outputId": "0413f126-7ba2-4150-c7e3-ea753497068f"
   },
   "outputs": [],
   "source": [
    "from sklearn.model_selection import train_test_split\n",
    "\n",
    "RANDOM_STATE = 42\n",
    "X_train, X_test, y_train, y_test = train_test_split(X, y, stratify=y, \n",
    "                                                    test_size=0.4, random_state=RANDOM_STATE)"
   ]
  },
  {
   "cell_type": "code",
   "execution_count": 12,
   "metadata": {
    "executionInfo": {
     "elapsed": 214,
     "status": "ok",
     "timestamp": 1667160684444,
     "user": {
      "displayName": "Москаленко В'ячеслав Васильович",
      "userId": "09799116143807457878"
     },
     "user_tz": -180
    },
    "id": "hBnBmvJ7dQ8U"
   },
   "outputs": [],
   "source": [
    "from sklearn.metrics import classification_report"
   ]
  },
  {
   "cell_type": "code",
   "execution_count": 13,
   "metadata": {
    "colab": {
     "base_uri": "https://localhost:8080/"
    },
    "executionInfo": {
     "elapsed": 804,
     "status": "ok",
     "timestamp": 1667160687036,
     "user": {
      "displayName": "Москаленко В'ячеслав Васильович",
      "userId": "09799116143807457878"
     },
     "user_tz": -180
    },
    "id": "_40AhH14dQ8b",
    "outputId": "0739dc78-8406-44d0-ce8e-ba8a5b9239cf"
   },
   "outputs": [
    {
     "name": "stdout",
     "output_type": "stream",
     "text": [
      "              precision    recall  f1-score   support\n",
      "\n",
      "           0       0.58      0.75      0.65      4997\n",
      "           1       0.51      0.42      0.46      4240\n",
      "           2       0.00      0.00      0.00       482\n",
      "           3       0.00      0.00      0.00       205\n",
      "           4       0.00      0.00      0.00        37\n",
      "           5       0.00      0.00      0.00        22\n",
      "           6       0.00      0.00      0.00        14\n",
      "           7       0.00      0.00      0.00         3\n",
      "           8       0.00      0.00      0.00         2\n",
      "           9       0.00      0.00      0.00         2\n",
      "\n",
      "    accuracy                           0.55     10004\n",
      "   macro avg       0.11      0.12      0.11     10004\n",
      "weighted avg       0.50      0.55      0.52     10004\n",
      "\n"
     ]
    },
    {
     "name": "stderr",
     "output_type": "stream",
     "text": [
      "g:\\Dev\\intro_to_data_science\\.venv\\Lib\\site-packages\\sklearn\\metrics\\_classification.py:1531: UndefinedMetricWarning: Precision is ill-defined and being set to 0.0 in labels with no predicted samples. Use `zero_division` parameter to control this behavior.\n",
      "  _warn_prf(average, modifier, f\"{metric.capitalize()} is\", len(result))\n",
      "g:\\Dev\\intro_to_data_science\\.venv\\Lib\\site-packages\\sklearn\\metrics\\_classification.py:1531: UndefinedMetricWarning: Precision is ill-defined and being set to 0.0 in labels with no predicted samples. Use `zero_division` parameter to control this behavior.\n",
      "  _warn_prf(average, modifier, f\"{metric.capitalize()} is\", len(result))\n",
      "g:\\Dev\\intro_to_data_science\\.venv\\Lib\\site-packages\\sklearn\\metrics\\_classification.py:1531: UndefinedMetricWarning: Precision is ill-defined and being set to 0.0 in labels with no predicted samples. Use `zero_division` parameter to control this behavior.\n",
      "  _warn_prf(average, modifier, f\"{metric.capitalize()} is\", len(result))\n"
     ]
    }
   ],
   "source": [
    "clf = RandomForestClassifier(random_state=RANDOM_STATE)\n",
    "\n",
    "clf.fit(X_train, y_train)\n",
    "\n",
    "print(classification_report(y_test, clf.predict(X_test)))"
   ]
  },
  {
   "cell_type": "markdown",
   "metadata": {
    "id": "lZVEAdQedQ8h"
   },
   "source": [
    "Як ми бачимо, найбільш рідкісні класи RandomForest з настройками за замовчуванням не знайшов і викидує варнінги про відсутність предиктів по ним.\n",
    "\n",
    "Уявімо на секунду, що нас цікавлять класи з 6 по 9 включно, оскільки вони рідкісні і різко підвищують ймовірність перемоги. Подивимося, чи можливо підібрати ваги таким чином, щоб знайти ці класи."
   ]
  },
  {
   "cell_type": "markdown",
   "metadata": {
    "id": "KQj5PWvPdQ8j"
   },
   "source": [
    "В деяких алгоритмах існує можливість проставити `class_weight`, наприклад, для логістичної регресії і випадкового лісу і таким чином скоректувати штраф за хибно прогнозований об'єкт. Альтернативою ручному підбору є `'balanced'` опція, що проставляє ваги у відповідності з розподілом в навчальній вибірці."
   ]
  },
  {
   "cell_type": "code",
   "execution_count": 14,
   "metadata": {
    "executionInfo": {
     "elapsed": 305,
     "status": "ok",
     "timestamp": 1667160691960,
     "user": {
      "displayName": "Москаленко В'ячеслав Васильович",
      "userId": "09799116143807457878"
     },
     "user_tz": -180
    },
    "id": "HWMYAn6bdQ8l"
   },
   "outputs": [],
   "source": [
    "searching_for_classes = ['balanced', \n",
    "                         {6:2, 7:2, 8:2, 9:2},\n",
    "                         {6:10, 7:10, 8:10, 9:10}\n",
    "                        ]"
   ]
  },
  {
   "cell_type": "code",
   "execution_count": 15,
   "metadata": {
    "colab": {
     "base_uri": "https://localhost:8080/"
    },
    "executionInfo": {
     "elapsed": 973,
     "status": "ok",
     "timestamp": 1667160695047,
     "user": {
      "displayName": "Москаленко В'ячеслав Васильович",
      "userId": "09799116143807457878"
     },
     "user_tz": -180
    },
    "id": "_XKteLATdQ8t",
    "outputId": "0e648648-555e-4cde-d1e1-22c8313b1d97"
   },
   "outputs": [
    {
     "name": "stderr",
     "output_type": "stream",
     "text": [
      "g:\\Dev\\intro_to_data_science\\.venv\\Lib\\site-packages\\sklearn\\metrics\\_classification.py:1531: UndefinedMetricWarning: Precision is ill-defined and being set to 0.0 in labels with no predicted samples. Use `zero_division` parameter to control this behavior.\n",
      "  _warn_prf(average, modifier, f\"{metric.capitalize()} is\", len(result))\n",
      "g:\\Dev\\intro_to_data_science\\.venv\\Lib\\site-packages\\sklearn\\metrics\\_classification.py:1531: UndefinedMetricWarning: Precision is ill-defined and being set to 0.0 in labels with no predicted samples. Use `zero_division` parameter to control this behavior.\n",
      "  _warn_prf(average, modifier, f\"{metric.capitalize()} is\", len(result))\n",
      "g:\\Dev\\intro_to_data_science\\.venv\\Lib\\site-packages\\sklearn\\metrics\\_classification.py:1531: UndefinedMetricWarning: Precision is ill-defined and being set to 0.0 in labels with no predicted samples. Use `zero_division` parameter to control this behavior.\n",
      "  _warn_prf(average, modifier, f\"{metric.capitalize()} is\", len(result))\n"
     ]
    },
    {
     "name": "stdout",
     "output_type": "stream",
     "text": [
      "              precision    recall  f1-score   support\n",
      "\n",
      "           0       0.57      0.76      0.65      4997\n",
      "           1       0.50      0.39      0.44      4240\n",
      "           2       0.00      0.00      0.00       482\n",
      "           3       0.00      0.00      0.00       205\n",
      "           4       0.00      0.00      0.00        37\n",
      "           5       1.00      0.05      0.09        22\n",
      "           6       0.00      0.00      0.00        14\n",
      "           7       0.00      0.00      0.00         3\n",
      "           8       0.00      0.00      0.00         2\n",
      "           9       0.00      0.00      0.00         2\n",
      "\n",
      "    accuracy                           0.54     10004\n",
      "   macro avg       0.21      0.12      0.12     10004\n",
      "weighted avg       0.50      0.54      0.51     10004\n",
      "\n"
     ]
    },
    {
     "name": "stderr",
     "output_type": "stream",
     "text": [
      "g:\\Dev\\intro_to_data_science\\.venv\\Lib\\site-packages\\sklearn\\metrics\\_classification.py:1531: UndefinedMetricWarning: Precision is ill-defined and being set to 0.0 in labels with no predicted samples. Use `zero_division` parameter to control this behavior.\n",
      "  _warn_prf(average, modifier, f\"{metric.capitalize()} is\", len(result))\n",
      "g:\\Dev\\intro_to_data_science\\.venv\\Lib\\site-packages\\sklearn\\metrics\\_classification.py:1531: UndefinedMetricWarning: Precision is ill-defined and being set to 0.0 in labels with no predicted samples. Use `zero_division` parameter to control this behavior.\n",
      "  _warn_prf(average, modifier, f\"{metric.capitalize()} is\", len(result))\n",
      "g:\\Dev\\intro_to_data_science\\.venv\\Lib\\site-packages\\sklearn\\metrics\\_classification.py:1531: UndefinedMetricWarning: Precision is ill-defined and being set to 0.0 in labels with no predicted samples. Use `zero_division` parameter to control this behavior.\n",
      "  _warn_prf(average, modifier, f\"{metric.capitalize()} is\", len(result))\n"
     ]
    },
    {
     "name": "stdout",
     "output_type": "stream",
     "text": [
      "              precision    recall  f1-score   support\n",
      "\n",
      "           0       0.57      0.75      0.65      4997\n",
      "           1       0.50      0.41      0.45      4240\n",
      "           2       0.00      0.00      0.00       482\n",
      "           3       1.00      0.00      0.01       205\n",
      "           4       0.00      0.00      0.00        37\n",
      "           5       0.00      0.00      0.00        22\n",
      "           6       0.00      0.00      0.00        14\n",
      "           7       0.00      0.00      0.00         3\n",
      "           8       0.00      0.00      0.00         2\n",
      "           9       0.00      0.00      0.00         2\n",
      "\n",
      "    accuracy                           0.55     10004\n",
      "   macro avg       0.21      0.12      0.11     10004\n",
      "weighted avg       0.52      0.55      0.52     10004\n",
      "\n",
      "              precision    recall  f1-score   support\n",
      "\n",
      "           0       0.57      0.77      0.66      4997\n",
      "           1       0.51      0.40      0.45      4240\n",
      "           2       0.00      0.00      0.00       482\n",
      "           3       0.00      0.00      0.00       205\n",
      "           4       0.00      0.00      0.00        37\n",
      "           5       0.00      0.00      0.00        22\n",
      "           6       0.00      0.00      0.00        14\n",
      "           7       0.00      0.00      0.00         3\n",
      "           8       0.00      0.00      0.00         2\n",
      "           9       0.00      0.00      0.00         2\n",
      "\n",
      "    accuracy                           0.55     10004\n",
      "   macro avg       0.11      0.12      0.11     10004\n",
      "weighted avg       0.50      0.55      0.52     10004\n",
      "\n"
     ]
    },
    {
     "name": "stderr",
     "output_type": "stream",
     "text": [
      "g:\\Dev\\intro_to_data_science\\.venv\\Lib\\site-packages\\sklearn\\metrics\\_classification.py:1531: UndefinedMetricWarning: Precision is ill-defined and being set to 0.0 in labels with no predicted samples. Use `zero_division` parameter to control this behavior.\n",
      "  _warn_prf(average, modifier, f\"{metric.capitalize()} is\", len(result))\n",
      "g:\\Dev\\intro_to_data_science\\.venv\\Lib\\site-packages\\sklearn\\metrics\\_classification.py:1531: UndefinedMetricWarning: Precision is ill-defined and being set to 0.0 in labels with no predicted samples. Use `zero_division` parameter to control this behavior.\n",
      "  _warn_prf(average, modifier, f\"{metric.capitalize()} is\", len(result))\n",
      "g:\\Dev\\intro_to_data_science\\.venv\\Lib\\site-packages\\sklearn\\metrics\\_classification.py:1531: UndefinedMetricWarning: Precision is ill-defined and being set to 0.0 in labels with no predicted samples. Use `zero_division` parameter to control this behavior.\n",
      "  _warn_prf(average, modifier, f\"{metric.capitalize()} is\", len(result))\n"
     ]
    }
   ],
   "source": [
    "for option in searching_for_classes:\n",
    "    \n",
    "    clf = RandomForestClassifier(class_weight=option, random_state=RANDOM_STATE)\n",
    "    clf.fit(X_train, y_train)\n",
    "\n",
    "    print(classification_report(y_test, clf.predict(X_test)))"
   ]
  },
  {
   "cell_type": "markdown",
   "metadata": {
    "id": "h3zrZHmEdQ81"
   },
   "source": [
    "Тепер спробуємо використати ExtraTreesClassifier"
   ]
  },
  {
   "cell_type": "code",
   "execution_count": 16,
   "metadata": {
    "colab": {
     "base_uri": "https://localhost:8080/"
    },
    "executionInfo": {
     "elapsed": 1549,
     "status": "ok",
     "timestamp": 1667160700478,
     "user": {
      "displayName": "Москаленко В'ячеслав Васильович",
      "userId": "09799116143807457878"
     },
     "user_tz": -180
    },
    "id": "Wh06FoI8dQ83",
    "outputId": "5a5752c6-2f1b-40ad-f77a-227e5087b469"
   },
   "outputs": [
    {
     "name": "stderr",
     "output_type": "stream",
     "text": [
      "g:\\Dev\\intro_to_data_science\\.venv\\Lib\\site-packages\\sklearn\\metrics\\_classification.py:1531: UndefinedMetricWarning: Precision is ill-defined and being set to 0.0 in labels with no predicted samples. Use `zero_division` parameter to control this behavior.\n",
      "  _warn_prf(average, modifier, f\"{metric.capitalize()} is\", len(result))\n",
      "g:\\Dev\\intro_to_data_science\\.venv\\Lib\\site-packages\\sklearn\\metrics\\_classification.py:1531: UndefinedMetricWarning: Precision is ill-defined and being set to 0.0 in labels with no predicted samples. Use `zero_division` parameter to control this behavior.\n",
      "  _warn_prf(average, modifier, f\"{metric.capitalize()} is\", len(result))\n",
      "g:\\Dev\\intro_to_data_science\\.venv\\Lib\\site-packages\\sklearn\\metrics\\_classification.py:1531: UndefinedMetricWarning: Precision is ill-defined and being set to 0.0 in labels with no predicted samples. Use `zero_division` parameter to control this behavior.\n",
      "  _warn_prf(average, modifier, f\"{metric.capitalize()} is\", len(result))\n"
     ]
    },
    {
     "name": "stdout",
     "output_type": "stream",
     "text": [
      "weights: balanced\n",
      "              precision    recall  f1-score   support\n",
      "\n",
      "           0       0.52      0.64      0.58      4997\n",
      "           1       0.45      0.40      0.42      4240\n",
      "           2       0.10      0.01      0.02       482\n",
      "           3       0.06      0.00      0.01       205\n",
      "           4       0.00      0.00      0.00        37\n",
      "           5       0.78      0.64      0.70        22\n",
      "           6       0.00      0.00      0.00        14\n",
      "           7       0.00      0.00      0.00         3\n",
      "           8       0.00      0.00      0.00         2\n",
      "           9       0.00      0.00      0.00         2\n",
      "\n",
      "    accuracy                           0.49     10004\n",
      "   macro avg       0.19      0.17      0.17     10004\n",
      "weighted avg       0.46      0.49      0.47     10004\n",
      "\n",
      "\n"
     ]
    },
    {
     "name": "stderr",
     "output_type": "stream",
     "text": [
      "g:\\Dev\\intro_to_data_science\\.venv\\Lib\\site-packages\\sklearn\\metrics\\_classification.py:1531: UndefinedMetricWarning: Precision is ill-defined and being set to 0.0 in labels with no predicted samples. Use `zero_division` parameter to control this behavior.\n",
      "  _warn_prf(average, modifier, f\"{metric.capitalize()} is\", len(result))\n",
      "g:\\Dev\\intro_to_data_science\\.venv\\Lib\\site-packages\\sklearn\\metrics\\_classification.py:1531: UndefinedMetricWarning: Precision is ill-defined and being set to 0.0 in labels with no predicted samples. Use `zero_division` parameter to control this behavior.\n",
      "  _warn_prf(average, modifier, f\"{metric.capitalize()} is\", len(result))\n",
      "g:\\Dev\\intro_to_data_science\\.venv\\Lib\\site-packages\\sklearn\\metrics\\_classification.py:1531: UndefinedMetricWarning: Precision is ill-defined and being set to 0.0 in labels with no predicted samples. Use `zero_division` parameter to control this behavior.\n",
      "  _warn_prf(average, modifier, f\"{metric.capitalize()} is\", len(result))\n"
     ]
    },
    {
     "name": "stdout",
     "output_type": "stream",
     "text": [
      "weights: {6: 2, 7: 2, 8: 2, 9: 2}\n",
      "              precision    recall  f1-score   support\n",
      "\n",
      "           0       0.52      0.63      0.57      4997\n",
      "           1       0.44      0.41      0.42      4240\n",
      "           2       0.08      0.01      0.02       482\n",
      "           3       0.00      0.00      0.00       205\n",
      "           4       0.00      0.00      0.00        37\n",
      "           5       0.83      0.86      0.84        22\n",
      "           6       0.00      0.00      0.00        14\n",
      "           7       0.00      0.00      0.00         3\n",
      "           8       0.00      0.00      0.00         2\n",
      "           9       0.00      0.00      0.00         2\n",
      "\n",
      "    accuracy                           0.49     10004\n",
      "   macro avg       0.19      0.19      0.19     10004\n",
      "weighted avg       0.45      0.49      0.47     10004\n",
      "\n",
      "\n",
      "weights: {6: 10, 7: 10, 8: 10, 9: 10}\n",
      "              precision    recall  f1-score   support\n",
      "\n",
      "           0       0.52      0.63      0.57      4997\n",
      "           1       0.44      0.41      0.43      4240\n",
      "           2       0.12      0.01      0.03       482\n",
      "           3       0.06      0.00      0.01       205\n",
      "           4       0.00      0.00      0.00        37\n",
      "           5       0.83      0.86      0.84        22\n",
      "           6       0.00      0.00      0.00        14\n",
      "           7       0.00      0.00      0.00         3\n",
      "           8       0.00      0.00      0.00         2\n",
      "           9       0.00      0.00      0.00         2\n",
      "\n",
      "    accuracy                           0.49     10004\n",
      "   macro avg       0.20      0.19      0.19     10004\n",
      "weighted avg       0.46      0.49      0.47     10004\n",
      "\n",
      "\n"
     ]
    },
    {
     "name": "stderr",
     "output_type": "stream",
     "text": [
      "g:\\Dev\\intro_to_data_science\\.venv\\Lib\\site-packages\\sklearn\\metrics\\_classification.py:1531: UndefinedMetricWarning: Precision is ill-defined and being set to 0.0 in labels with no predicted samples. Use `zero_division` parameter to control this behavior.\n",
      "  _warn_prf(average, modifier, f\"{metric.capitalize()} is\", len(result))\n",
      "g:\\Dev\\intro_to_data_science\\.venv\\Lib\\site-packages\\sklearn\\metrics\\_classification.py:1531: UndefinedMetricWarning: Precision is ill-defined and being set to 0.0 in labels with no predicted samples. Use `zero_division` parameter to control this behavior.\n",
      "  _warn_prf(average, modifier, f\"{metric.capitalize()} is\", len(result))\n",
      "g:\\Dev\\intro_to_data_science\\.venv\\Lib\\site-packages\\sklearn\\metrics\\_classification.py:1531: UndefinedMetricWarning: Precision is ill-defined and being set to 0.0 in labels with no predicted samples. Use `zero_division` parameter to control this behavior.\n",
      "  _warn_prf(average, modifier, f\"{metric.capitalize()} is\", len(result))\n"
     ]
    }
   ],
   "source": [
    "for option in searching_for_classes:\n",
    "    \n",
    "    clf = ExtraTreesClassifier(class_weight=option, random_state=RANDOM_STATE)\n",
    "    clf.fit(X_train, y_train)\n",
    "\n",
    "    print('weights: ' + str(option) + '\\n' + classification_report(y_test, clf.predict(X_test)) + '\\n' )"
   ]
  },
  {
   "cell_type": "markdown",
   "metadata": {
    "id": "FLrjOTPydQ8-"
   },
   "source": [
    "Бачимо, що в першому випадку (з \"'balanced'\") ми тепер знаходимо 5-ий клас. Проте, це не совсім те, чого ми хотіли. Поглянемо на ймовірності, що проставлені класифікатором для кожного з класів."
   ]
  },
  {
   "cell_type": "code",
   "execution_count": 17,
   "metadata": {
    "colab": {
     "base_uri": "https://localhost:8080/"
    },
    "executionInfo": {
     "elapsed": 236,
     "status": "ok",
     "timestamp": 1667160704987,
     "user": {
      "displayName": "Москаленко В'ячеслав Васильович",
      "userId": "09799116143807457878"
     },
     "user_tz": -180
    },
    "id": "QhPvMStbdQ9A",
    "outputId": "3df58cd9-272d-4f0a-d65b-310cdcad6740"
   },
   "outputs": [],
   "source": [
    "predicted_probs = clf.predict_proba(X_test)"
   ]
  },
  {
   "cell_type": "code",
   "execution_count": 18,
   "metadata": {
    "colab": {
     "base_uri": "https://localhost:8080/",
     "height": 300
    },
    "executionInfo": {
     "elapsed": 257,
     "status": "ok",
     "timestamp": 1667160707166,
     "user": {
      "displayName": "Москаленко В'ячеслав Васильович",
      "userId": "09799116143807457878"
     },
     "user_tz": -180
    },
    "id": "5p7S01tXdQ9F",
    "outputId": "f26c768d-eeaf-4667-a85b-aa65be240d45"
   },
   "outputs": [
    {
     "data": {
      "text/html": [
       "<div>\n",
       "<style scoped>\n",
       "    .dataframe tbody tr th:only-of-type {\n",
       "        vertical-align: middle;\n",
       "    }\n",
       "\n",
       "    .dataframe tbody tr th {\n",
       "        vertical-align: top;\n",
       "    }\n",
       "\n",
       "    .dataframe thead th {\n",
       "        text-align: right;\n",
       "    }\n",
       "</style>\n",
       "<table border=\"1\" class=\"dataframe\">\n",
       "  <thead>\n",
       "    <tr style=\"text-align: right;\">\n",
       "      <th></th>\n",
       "      <th>prob_6</th>\n",
       "      <th>prob_7</th>\n",
       "      <th>prob_8</th>\n",
       "      <th>prob_9</th>\n",
       "    </tr>\n",
       "  </thead>\n",
       "  <tbody>\n",
       "    <tr>\n",
       "      <th>count</th>\n",
       "      <td>10004.000000</td>\n",
       "      <td>10004.000000</td>\n",
       "      <td>10004.000000</td>\n",
       "      <td>10004.000000</td>\n",
       "    </tr>\n",
       "    <tr>\n",
       "      <th>mean</th>\n",
       "      <td>0.001968</td>\n",
       "      <td>0.000233</td>\n",
       "      <td>0.000209</td>\n",
       "      <td>0.000270</td>\n",
       "    </tr>\n",
       "    <tr>\n",
       "      <th>std</th>\n",
       "      <td>0.013719</td>\n",
       "      <td>0.003984</td>\n",
       "      <td>0.003464</td>\n",
       "      <td>0.006156</td>\n",
       "    </tr>\n",
       "    <tr>\n",
       "      <th>min</th>\n",
       "      <td>0.000000</td>\n",
       "      <td>0.000000</td>\n",
       "      <td>0.000000</td>\n",
       "      <td>0.000000</td>\n",
       "    </tr>\n",
       "    <tr>\n",
       "      <th>25%</th>\n",
       "      <td>0.000000</td>\n",
       "      <td>0.000000</td>\n",
       "      <td>0.000000</td>\n",
       "      <td>0.000000</td>\n",
       "    </tr>\n",
       "    <tr>\n",
       "      <th>50%</th>\n",
       "      <td>0.000000</td>\n",
       "      <td>0.000000</td>\n",
       "      <td>0.000000</td>\n",
       "      <td>0.000000</td>\n",
       "    </tr>\n",
       "    <tr>\n",
       "      <th>75%</th>\n",
       "      <td>0.000000</td>\n",
       "      <td>0.000000</td>\n",
       "      <td>0.000000</td>\n",
       "      <td>0.000000</td>\n",
       "    </tr>\n",
       "    <tr>\n",
       "      <th>max</th>\n",
       "      <td>0.490000</td>\n",
       "      <td>0.300000</td>\n",
       "      <td>0.210000</td>\n",
       "      <td>0.430000</td>\n",
       "    </tr>\n",
       "  </tbody>\n",
       "</table>\n",
       "</div>"
      ],
      "text/plain": [
       "             prob_6        prob_7        prob_8        prob_9\n",
       "count  10004.000000  10004.000000  10004.000000  10004.000000\n",
       "mean       0.001968      0.000233      0.000209      0.000270\n",
       "std        0.013719      0.003984      0.003464      0.006156\n",
       "min        0.000000      0.000000      0.000000      0.000000\n",
       "25%        0.000000      0.000000      0.000000      0.000000\n",
       "50%        0.000000      0.000000      0.000000      0.000000\n",
       "75%        0.000000      0.000000      0.000000      0.000000\n",
       "max        0.490000      0.300000      0.210000      0.430000"
      ]
     },
     "execution_count": 18,
     "metadata": {},
     "output_type": "execute_result"
    }
   ],
   "source": [
    "pd.DataFrame(predicted_probs, \n",
    "             columns=['prob_' + str(i) for i in range(0,10)]) \\\n",
    "             [[\"prob_6\", \"prob_7\", \"prob_8\", \"prob_9\"]].describe()"
   ]
  },
  {
   "cell_type": "markdown",
   "metadata": {
    "id": "Ifu6Bp8MdQ9L"
   },
   "source": [
    "Можна було б скористатися стандартним прийомом і викрутити поріг на ймовірності, тобто назначати клас за меншим, ніж дефолтний 0.5 поріг, спіймавши частину екземплярів класу. Однак ми бачимо, що в даному випадку такий підхід не має сенсу -- ймовірності досить малі і таких прикладів зовсім небагато."
   ]
  },
  {
   "cell_type": "markdown",
   "metadata": {
    "id": "gJCzFoENdQ9M"
   },
   "source": [
    "Ми ще повернемося до проблеми визначення настільки малих класів."
   ]
  },
  {
   "cell_type": "markdown",
   "metadata": {
    "id": "9ExgrjBZdQ9N"
   },
   "source": [
    "### Blagging Classifier"
   ]
  },
  {
   "cell_type": "markdown",
   "metadata": {
    "id": "Bgd2_z98dQ9O"
   },
   "source": [
    "Тепер посмотрим на работу Blagging Classifier'а, который из коробки умеет балансировать классы.\n",
    "\n",
    "Чудове інтуїтивне уявлення про роботу цього класифікатора дає [цей](https://github.com/yanshanjing/learning-from-imbalanced-classes/blob/master/Gaussians.ipynb) ноутбук, а саму статтю з підходом можно знайти [тут](https://pdfs.semanticscholar.org/a8ef/5a810099178b70d1490a4e6fc4426b642cde.pdf).\n",
    "\n",
    "Ну і програмний код [тут](https://github.com/yanshanjing/learning-from-imbalanced-classes/blob/master/blagging.py), звичайно.\n",
    "\n",
    "\n",
    "В загальних рисах підхід наступний:\n",
    "\n",
    "* Bootstrap з датасету\n",
    "* Балансування шляхом зменшення розміру великого класу (downsampling)\n",
    "* Навчання Decision Tree на кожній з вибірок\n",
    "* Majority vote на наборі дерев"
   ]
  },
  {
   "cell_type": "markdown",
   "metadata": {
    "id": "JVmLZut-dQ9P"
   },
   "source": [
    "<img src=\"https://habrastorage.org/web/29a/31c/af6/29a31caf67f8449dace109394b8b7e6a.png\"/>\n",
    "\n",
    "Картинка [звідси](https://svds.com/learning-imbalanced-classes/)"
   ]
  },
  {
   "cell_type": "markdown",
   "metadata": {
    "id": "TLIY3x1GdQ9R"
   },
   "source": [
    "Нажаль цей класифікатор працює тільки для бінарної класифікації, тому ми зведемо задачу до такого вигляду. Нехай у нас є рідкісні, але виграшні класи і декілька класів з найбільшою кількістю прикладів, що не є виграшними."
   ]
  },
  {
   "cell_type": "code",
   "execution_count": 19,
   "metadata": {
    "colab": {
     "base_uri": "https://localhost:8080/"
    },
    "executionInfo": {
     "elapsed": 231,
     "status": "ok",
     "timestamp": 1667160713129,
     "user": {
      "displayName": "Москаленко В'ячеслав Васильович",
      "userId": "09799116143807457878"
     },
     "user_tz": -180
    },
    "id": "MDoxpAQWdQ9S",
    "outputId": "4fa629a9-aac7-47d9-f871-222ccef7476e"
   },
   "outputs": [],
   "source": [
    "df = load_and_prepare_data()"
   ]
  },
  {
   "cell_type": "code",
   "execution_count": 20,
   "metadata": {
    "colab": {
     "base_uri": "https://localhost:8080/"
    },
    "executionInfo": {
     "elapsed": 331,
     "status": "ok",
     "timestamp": 1667160715963,
     "user": {
      "displayName": "Москаленко В'ячеслав Васильович",
      "userId": "09799116143807457878"
     },
     "user_tz": -180
    },
    "id": "Ky8fLciudQ9W",
    "outputId": "ea18bcb3-c02c-4d39-d796-e9191785f38c"
   },
   "outputs": [
    {
     "data": {
      "text/plain": [
       "CLASS\n",
       "0    12493\n",
       "1    10599\n",
       "2     1206\n",
       "3      513\n",
       "4       93\n",
       "5       54\n",
       "6       36\n",
       "7        6\n",
       "8        5\n",
       "9        5\n",
       "Name: count, dtype: int64"
      ]
     },
     "execution_count": 20,
     "metadata": {},
     "output_type": "execute_result"
    }
   ],
   "source": [
    "# ще раз подивимося на розподіл класів\n",
    "\n",
    "df.CLASS.value_counts()"
   ]
  },
  {
   "cell_type": "code",
   "execution_count": 21,
   "metadata": {
    "executionInfo": {
     "elapsed": 245,
     "status": "ok",
     "timestamp": 1667160719755,
     "user": {
      "displayName": "Москаленко В'ячеслав Васильович",
      "userId": "09799116143807457878"
     },
     "user_tz": -180
    },
    "id": "IyaaBm5gdQ9b"
   },
   "outputs": [],
   "source": [
    "def make_binary(original_data, pos_classes):\n",
    "    return np.array([(1 if val in pos_classes else 0)\n",
    "                     for val in original_data ])"
   ]
  },
  {
   "cell_type": "code",
   "execution_count": 22,
   "metadata": {
    "colab": {
     "base_uri": "https://localhost:8080/"
    },
    "executionInfo": {
     "elapsed": 7,
     "status": "ok",
     "timestamp": 1667160721504,
     "user": {
      "displayName": "Москаленко В'ячеслав Васильович",
      "userId": "09799116143807457878"
     },
     "user_tz": -180
    },
    "id": "tuNTa8VEdQ9i",
    "outputId": "5d7e8497-fe84-4d14-981e-8678c4f6abda"
   },
   "outputs": [
    {
     "name": "stdout",
     "output_type": "stream",
     "text": [
      "After merging classes {0, 1, 2, 3} -> 0 and {4, 5, 6, 7, 8, 9} -> 1 \n",
      "\n"
     ]
    },
    {
     "data": {
      "text/plain": [
       "(array([0, 1]), array([24811,   199]))"
      ]
     },
     "execution_count": 22,
     "metadata": {},
     "output_type": "execute_result"
    }
   ],
   "source": [
    "binary_y = make_binary(df.CLASS, set((4, 5, 6, 7, 8, 9)))\n",
    "print(\"After merging classes {0, 1, 2, 3} -> 0 and {4, 5, 6, 7, 8, 9} -> 1 \\n\")\n",
    "\n",
    "np.unique(binary_y, return_counts=True)"
   ]
  },
  {
   "cell_type": "markdown",
   "metadata": {
    "id": "sLBPDhYRdQ9n"
   },
   "source": [
    "Проблема залишилася досить незбалансованою, давайте перевіримо як поведуть себе алгоритми sklearn і порівняємо з BlaggingClassifier'ом."
   ]
  },
  {
   "cell_type": "code",
   "execution_count": 23,
   "metadata": {
    "colab": {
     "base_uri": "https://localhost:8080/"
    },
    "executionInfo": {
     "elapsed": 466,
     "status": "ok",
     "timestamp": 1667160727018,
     "user": {
      "displayName": "Москаленко В'ячеслав Васильович",
      "userId": "09799116143807457878"
     },
     "user_tz": -180
    },
    "id": "BglPfykCdQ9r",
    "outputId": "1f3bcbaf-4cf7-4a6e-ddbb-46f1ff99d592"
   },
   "outputs": [],
   "source": [
    "X = df.drop('CLASS', axis=1).values\n",
    "y = binary_y\n",
    "\n",
    "X_train, X_test, y_train, y_test = train_test_split(X, y, stratify=y, \n",
    "                                                    test_size=0.4, random_state=RANDOM_STATE)"
   ]
  },
  {
   "cell_type": "markdown",
   "metadata": {
    "id": "NXzXYJibdQ9v"
   },
   "source": [
    "RandomForest:"
   ]
  },
  {
   "cell_type": "code",
   "execution_count": 24,
   "metadata": {
    "colab": {
     "base_uri": "https://localhost:8080/"
    },
    "executionInfo": {
     "elapsed": 602,
     "status": "ok",
     "timestamp": 1667160730272,
     "user": {
      "displayName": "Москаленко В'ячеслав Васильович",
      "userId": "09799116143807457878"
     },
     "user_tz": -180
    },
    "id": "CHVqmdf_dQ9w",
    "outputId": "43b19218-a70e-426e-f40e-2e31c303128e"
   },
   "outputs": [
    {
     "name": "stdout",
     "output_type": "stream",
     "text": [
      "              precision    recall  f1-score   support\n",
      "\n",
      "           0       0.99      1.00      1.00      9924\n",
      "           1       0.00      0.00      0.00        80\n",
      "\n",
      "    accuracy                           0.99     10004\n",
      "   macro avg       0.50      0.50      0.50     10004\n",
      "weighted avg       0.98      0.99      0.99     10004\n",
      "\n"
     ]
    },
    {
     "name": "stderr",
     "output_type": "stream",
     "text": [
      "g:\\Dev\\intro_to_data_science\\.venv\\Lib\\site-packages\\sklearn\\metrics\\_classification.py:1531: UndefinedMetricWarning: Precision is ill-defined and being set to 0.0 in labels with no predicted samples. Use `zero_division` parameter to control this behavior.\n",
      "  _warn_prf(average, modifier, f\"{metric.capitalize()} is\", len(result))\n",
      "g:\\Dev\\intro_to_data_science\\.venv\\Lib\\site-packages\\sklearn\\metrics\\_classification.py:1531: UndefinedMetricWarning: Precision is ill-defined and being set to 0.0 in labels with no predicted samples. Use `zero_division` parameter to control this behavior.\n",
      "  _warn_prf(average, modifier, f\"{metric.capitalize()} is\", len(result))\n",
      "g:\\Dev\\intro_to_data_science\\.venv\\Lib\\site-packages\\sklearn\\metrics\\_classification.py:1531: UndefinedMetricWarning: Precision is ill-defined and being set to 0.0 in labels with no predicted samples. Use `zero_division` parameter to control this behavior.\n",
      "  _warn_prf(average, modifier, f\"{metric.capitalize()} is\", len(result))\n"
     ]
    }
   ],
   "source": [
    "clf = RandomForestClassifier(random_state=RANDOM_STATE)\n",
    "\n",
    "clf.fit(X_train, y_train)\n",
    "\n",
    "print(classification_report(y_test, clf.predict(X_test)))"
   ]
  },
  {
   "cell_type": "markdown",
   "metadata": {
    "id": "Y70rFEYvdQ92"
   },
   "source": [
    "GradientBoosting:"
   ]
  },
  {
   "cell_type": "code",
   "execution_count": 31,
   "metadata": {
    "colab": {
     "base_uri": "https://localhost:8080/"
    },
    "executionInfo": {
     "elapsed": 2207,
     "status": "ok",
     "timestamp": 1667160735738,
     "user": {
      "displayName": "Москаленко В'ячеслав Васильович",
      "userId": "09799116143807457878"
     },
     "user_tz": -180
    },
    "id": "5WhcqYOUdQ93",
    "outputId": "c0eaa018-db8a-4793-e7b3-9b6e6eea566e"
   },
   "outputs": [
    {
     "name": "stdout",
     "output_type": "stream",
     "text": [
      "              precision    recall  f1-score   support\n",
      "\n",
      "           0       0.99      1.00      1.00      9924\n",
      "           1       1.00      0.01      0.02        80\n",
      "\n",
      "    accuracy                           0.99     10004\n",
      "   macro avg       1.00      0.51      0.51     10004\n",
      "weighted avg       0.99      0.99      0.99     10004\n",
      "\n"
     ]
    }
   ],
   "source": [
    "clf = GradientBoostingClassifier(random_state=RANDOM_STATE)\n",
    "\n",
    "clf.fit(X_train, y_train)\n",
    "\n",
    "print(classification_report(y_test, clf.predict(X_test)))"
   ]
  },
  {
   "cell_type": "code",
   "execution_count": null,
   "metadata": {
    "colab": {
     "base_uri": "https://localhost:8080/"
    },
    "executionInfo": {
     "elapsed": 3903,
     "status": "ok",
     "timestamp": 1667160571222,
     "user": {
      "displayName": "Москаленко В'ячеслав Васильович",
      "userId": "09799116143807457878"
     },
     "user_tz": -180
    },
    "id": "UnyXAUMMdQ99",
    "outputId": "4970413f-0e11-4a2b-d4a7-187af9fc6d27"
   },
   "outputs": [],
   "source": [
    "# !pip install --user joblib"
   ]
  },
  {
   "cell_type": "code",
   "execution_count": null,
   "metadata": {
    "colab": {
     "base_uri": "https://localhost:8080/"
    },
    "executionInfo": {
     "elapsed": 4105,
     "status": "ok",
     "timestamp": 1667160575311,
     "user": {
      "displayName": "Москаленко В'ячеслав Васильович",
      "userId": "09799116143807457878"
     },
     "user_tz": -180
    },
    "id": "GWSM444HdQ-C",
    "outputId": "4a4e863f-361b-4014-8fae-4dc8c539fc2d"
   },
   "outputs": [],
   "source": [
    "# !pip install six"
   ]
  },
  {
   "cell_type": "code",
   "execution_count": 30,
   "metadata": {
    "colab": {
     "base_uri": "https://localhost:8080/",
     "height": 408
    },
    "executionInfo": {
     "elapsed": 9211,
     "status": "ok",
     "timestamp": 1667160608557,
     "user": {
      "displayName": "Москаленко В'ячеслав Васильович",
      "userId": "09799116143807457878"
     },
     "user_tz": -180
    },
    "id": "HvbetB22U-ap",
    "outputId": "c6c872b5-43e9-433b-c22c-6d864dfd7f0d"
   },
   "outputs": [],
   "source": [
    "# !pip install -U scikit-learn==0.21.3"
   ]
  },
  {
   "cell_type": "markdown",
   "metadata": {
    "id": "9S986Z80dQ-F"
   },
   "source": [
    "Досі ніяких значних покращень, навіть після merge класів."
   ]
  },
  {
   "cell_type": "code",
   "execution_count": 36,
   "metadata": {
    "colab": {
     "base_uri": "https://localhost:8080/"
    },
    "executionInfo": {
     "elapsed": 283,
     "status": "ok",
     "timestamp": 1667160747396,
     "user": {
      "displayName": "Москаленко В'ячеслав Васильович",
      "userId": "09799116143807457878"
     },
     "user_tz": -180
    },
    "id": "XH-RR6MydQ-G",
    "outputId": "e1ef2da3-67f3-4b76-f0e8-656e30628b23"
   },
   "outputs": [
    {
     "name": "stdout",
     "output_type": "stream",
     "text": [
      "              precision    recall  f1-score   support\n",
      "\n",
      "           0       0.99      1.00      1.00      9924\n",
      "           1       0.00      0.00      0.00        80\n",
      "\n",
      "    accuracy                           0.99     10004\n",
      "   macro avg       0.50      0.50      0.50     10004\n",
      "weighted avg       0.98      0.99      0.99     10004\n",
      "\n"
     ]
    },
    {
     "name": "stderr",
     "output_type": "stream",
     "text": [
      "g:\\Dev\\intro_to_data_science\\.venv\\Lib\\site-packages\\sklearn\\metrics\\_classification.py:1531: UndefinedMetricWarning: Precision is ill-defined and being set to 0.0 in labels with no predicted samples. Use `zero_division` parameter to control this behavior.\n",
      "  _warn_prf(average, modifier, f\"{metric.capitalize()} is\", len(result))\n",
      "g:\\Dev\\intro_to_data_science\\.venv\\Lib\\site-packages\\sklearn\\metrics\\_classification.py:1531: UndefinedMetricWarning: Precision is ill-defined and being set to 0.0 in labels with no predicted samples. Use `zero_division` parameter to control this behavior.\n",
      "  _warn_prf(average, modifier, f\"{metric.capitalize()} is\", len(result))\n",
      "g:\\Dev\\intro_to_data_science\\.venv\\Lib\\site-packages\\sklearn\\metrics\\_classification.py:1531: UndefinedMetricWarning: Precision is ill-defined and being set to 0.0 in labels with no predicted samples. Use `zero_division` parameter to control this behavior.\n",
      "  _warn_prf(average, modifier, f\"{metric.capitalize()} is\", len(result))\n"
     ]
    }
   ],
   "source": [
    "from sklearn.ensemble import BaggingClassifier\n",
    "from sklearn.tree import DecisionTreeClassifier\n",
    "\n",
    "# Використання BaggingClassifier як заміну BlaggingClassifier\n",
    "clf = BaggingClassifier(estimator=DecisionTreeClassifier(), random_state=RANDOM_STATE)\n",
    "\n",
    "clf.fit(X_train, y_train)\n",
    "\n",
    "print(classification_report(y_test, clf.predict(X_test)))"
   ]
  },
  {
   "cell_type": "markdown",
   "metadata": {
    "id": "r69fCnladQ-M"
   },
   "source": [
    "Як ми бачимо, `BlaggingClassifier` чудово показав себе, видав пристойну повноту для такої задачі.\n",
    "\n",
    "Для мене був сюрпризом результат ExtraTreesClassifier:"
   ]
  },
  {
   "cell_type": "code",
   "execution_count": 33,
   "metadata": {
    "colab": {
     "base_uri": "https://localhost:8080/"
    },
    "executionInfo": {
     "elapsed": 229,
     "status": "ok",
     "timestamp": 1667161562674,
     "user": {
      "displayName": "Москаленко В'ячеслав Васильович",
      "userId": "09799116143807457878"
     },
     "user_tz": -180
    },
    "id": "YuhKritgdQ-M",
    "outputId": "63c9d883-93b3-4662-8704-411dcb9951c1"
   },
   "outputs": [
    {
     "name": "stdout",
     "output_type": "stream",
     "text": [
      "              precision    recall  f1-score   support\n",
      "\n",
      "           0       0.99      1.00      1.00      9924\n",
      "           1       0.88      0.26      0.40        80\n",
      "\n",
      "    accuracy                           0.99     10004\n",
      "   macro avg       0.93      0.63      0.70     10004\n",
      "weighted avg       0.99      0.99      0.99     10004\n",
      "\n"
     ]
    }
   ],
   "source": [
    "from sklearn.ensemble import ExtraTreesClassifier\n",
    "\n",
    "clf = ExtraTreesClassifier(random_state=RANDOM_STATE)\n",
    "\n",
    "clf.fit(X_train, y_train)\n",
    "\n",
    "print(classification_report(y_test, clf.predict(X_test)))"
   ]
  },
  {
   "cell_type": "markdown",
   "metadata": {
    "collapsed": true,
    "id": "ytao6KCPdQ-R"
   },
   "source": [
    "Можна подумати (але ми не будемо) про те, як об'єднати прогнози ExtraTreesClassifier і BlaggingClassifier для кращого результату."
   ]
  },
  {
   "cell_type": "markdown",
   "metadata": {
    "id": "0Mgs5KIQdQ-S"
   },
   "source": [
    "Давайте тепер подивимося на AUC-ROC для кожного з класифікаторів.\n",
    "Можна відмітити, що варто побудувати AUC-ROC на крос-валідації по фолдам, оскільки деякі з об'єктів можуть бути нетиповими для класу і це буде помітно під час розбиття, а також оцінка буде менш зміщеною, але ми обмежимося поділом на train-test для демонстрації методів."
   ]
  },
  {
   "cell_type": "code",
   "execution_count": 41,
   "metadata": {
    "executionInfo": {
     "elapsed": 245,
     "status": "ok",
     "timestamp": 1667161567092,
     "user": {
      "displayName": "Москаленко В'ячеслав Васильович",
      "userId": "09799116143807457878"
     },
     "user_tz": -180
    },
    "id": "Tev6mc7odQ-S"
   },
   "outputs": [],
   "source": [
    "clfs = [\n",
    "        ['RandomForestClassifier', RandomForestClassifier(random_state=RANDOM_STATE)],\n",
    "        ['GradientBoostingClassifier', GradientBoostingClassifier(random_state=RANDOM_STATE)],\n",
    "        ['ExtraTreesClassifier', ExtraTreesClassifier(random_state=RANDOM_STATE)], \n",
    "        ['BaggingClassifier', BaggingClassifier(random_state=RANDOM_STATE)]\n",
    "       ]"
   ]
  },
  {
   "cell_type": "code",
   "execution_count": 42,
   "metadata": {
    "colab": {
     "base_uri": "https://localhost:8080/",
     "height": 1000
    },
    "executionInfo": {
     "elapsed": 3226,
     "status": "ok",
     "timestamp": 1667161572577,
     "user": {
      "displayName": "Москаленко В'ячеслав Васильович",
      "userId": "09799116143807457878"
     },
     "user_tz": -180
    },
    "id": "mgjGvceUdQ-V",
    "outputId": "bf6444a8-605f-4661-ade8-39c0eb59b572"
   },
   "outputs": [
    {
     "data": {
      "image/png": "[encoded data removed]",
      "text/plain": [
       "<Figure size 1000x800 with 1 Axes>"
      ]
     },
     "metadata": {},
     "output_type": "display_data"
    }
   ],
   "source": [
    "fig = plt.figure()\n",
    "ax = fig.add_subplot(1, 1, 1)\n",
    "\n",
    "for name, clf in clfs:\n",
    "    \n",
    "    clf.fit(X_train, y_train)\n",
    "    fpr, tpr, thresholds = roc_curve(y_test, clf.predict_proba(X_test)[:, 1])\n",
    "    roc_auc = roc_auc_score(y_test, clf.predict_proba(X_test)[:, 1])\n",
    "    plt.plot(fpr, tpr, linestyle='-',\n",
    "             label='{} (area = %0.2f)'.format(name) % roc_auc)\n",
    "    \n",
    "plt.plot([0, 1], [0, 1], linestyle='--', color='k',\n",
    "         label='Random')    \n",
    "ax.spines['top'].set_visible(False)\n",
    "ax.spines['right'].set_visible(False)\n",
    "ax.get_xaxis().tick_bottom()\n",
    "ax.get_yaxis().tick_left()\n",
    "ax.spines['left'].set_position(('outward', 10))\n",
    "ax.spines['bottom'].set_position(('outward', 10))\n",
    "plt.xlim([0, 1])\n",
    "plt.ylim([0, 1])\n",
    "plt.xlabel('False Positive Rate')\n",
    "plt.ylabel('True Positive Rate')\n",
    "plt.title('Receiver operating characteristic')\n",
    "\n",
    "plt.legend(loc=\"lower right\")\n",
    "\n",
    "plt.show()    "
   ]
  },
  {
   "cell_type": "markdown",
   "metadata": {
    "id": "uNZSQqSRdQ-b"
   },
   "source": [
    "Видно, що за рахунок \"завалювання прогнозів класифікатора в більший клас, градієнтний бустінг виграє в BlaggingClassifier'а.\n",
    "\n",
    "Але давайте поглянемо на AUC-PR і повноту по рідкісному класу і все встане на свої місця."
   ]
  },
  {
   "cell_type": "code",
   "execution_count": 43,
   "metadata": {
    "colab": {
     "base_uri": "https://localhost:8080/",
     "height": 1000
    },
    "executionInfo": {
     "elapsed": 3149,
     "status": "ok",
     "timestamp": 1667161588360,
     "user": {
      "displayName": "Москаленко В'ячеслав Васильович",
      "userId": "09799116143807457878"
     },
     "user_tz": -180
    },
    "id": "IPGALbyCdQ-b",
    "outputId": "0d50eb92-e518-48ff-fb89-ba87b9e793ad"
   },
   "outputs": [
    {
     "data": {
      "image/png": "[encoded data removed]",
      "text/plain": [
       "<Figure size 1000x800 with 1 Axes>"
      ]
     },
     "metadata": {},
     "output_type": "display_data"
    }
   ],
   "source": [
    "from sklearn.metrics import recall_score\n",
    "\n",
    "fig = plt.figure()\n",
    "ax = fig.add_subplot(1, 1, 1)\n",
    "\n",
    "for name, clf in clfs:\n",
    "    \n",
    "    clf.fit(X_train, y_train)\n",
    "    fpr, tpr, thresholds = precision_recall_curve(y_test, clf.predict_proba(X_test)[:, 1])\n",
    "    recall_1 = recall_score(y_test, clf.predict(X_test))\n",
    "    plt.plot(fpr, tpr, linestyle='-',\n",
    "             label='{} (recall_1 = %0.2f)'.format(name) % recall_1)\n",
    "    \n",
    "    \n",
    "ax.spines['top'].set_visible(False)\n",
    "ax.spines['right'].set_visible(False)\n",
    "ax.get_xaxis().tick_bottom()\n",
    "ax.get_yaxis().tick_left()\n",
    "ax.spines['left'].set_position(('outward', 10))\n",
    "ax.spines['bottom'].set_position(('outward', 10))\n",
    "plt.xlim([0, 1])\n",
    "plt.ylim([0, 1])\n",
    "plt.xlabel('Recall')\n",
    "plt.ylabel('Precision')\n",
    "plt.title('Precision-Recall curve')\n",
    "\n",
    "plt.legend(loc=\"upper right\")\n",
    "\n",
    "plt.show()    "
   ]
  },
  {
   "cell_type": "markdown",
   "metadata": {
    "id": "NzXHb0L5dQ-e"
   },
   "source": [
    "Тут ми бачимо, що найбільша `recall` меншого класу саме в Blagging Classifier'а."
   ]
  },
  {
   "cell_type": "markdown",
   "metadata": {
    "id": "s17qSrgWdQ-f"
   },
   "source": [
    "## Библиотека imbalanced-learn"
   ]
  },
  {
   "cell_type": "markdown",
   "metadata": {
    "id": "1heGPGWEdQ-g"
   },
   "source": [
    "[Бібліотека](http://contrib.scikit-learn.org/imbalanced-learn/install.html) imbalanced-learn дозволяє використовувати різноманітні техніки семплювання (як over, так і under, а також їх комбінації). Позаду деяких технік стоять нетривіальні підходи, що не входять в даний туторіал, але я залишу посилання.\n",
    "\n",
    "Бібліотека включає :\n",
    "\n",
    "* Under-sampling methods. Все просто, семплюємо з більшого класу для вирівнювання вибірки по меншому класу. Можливі два варіанти: \n",
    " - генерація нових прикладів з більшого класу на основі [центроїд](http://contrib.scikit-learn.org/imbalanced-  learn/generated/imblearn.under_sampling.ClusterCentroids.html) кластерів;\n",
    " - [вибірка](http://contrib.scikit-learn.org/imbalanced-learn/api.html#module-imblearn.under_sampling.prototype_selection) прикладів з більшого класу різними способами (їх досить багато)\n",
    "\n",
    "\n",
    "* Over-sampling methods. Тут теж все просто -- ми додаємо в датасет приклади меншого класу, просто [копіюванням](http://contrib.scikit-learn.org/imbalanced-learn/generated/imblearn.over_sampling.RandomOverSampler.html) або використовуючи більш хитрі техніки як, наприклад, [SMOTE](http://contrib.scikit-learn.org/imbalanced-learn/generated/imblearn.over_sampling.SMOTE.html), який дозволяє генерувати синтетичні приклади на основі близькості декількох сусідів в ознаковому просторі, створюючи (с включенням випадковості) новий вектор ознак для нового прикладу. [Тут](https://www.cs.cmu.edu/afs/cs/project/jair/pub/volume16/chawla02a-html/node6.html#SECTION00042000000000000000) детальніше."
   ]
  },
  {
   "cell_type": "markdown",
   "metadata": {
    "id": "_XwHZEGqdQ-g"
   },
   "source": [
    "Давайте подивимося як поведуть себе ці методи на оригінальному датасеті за наявності всіх класів."
   ]
  },
  {
   "cell_type": "code",
   "execution_count": 44,
   "metadata": {
    "colab": {
     "base_uri": "https://localhost:8080/"
    },
    "executionInfo": {
     "elapsed": 553,
     "status": "ok",
     "timestamp": 1667161604887,
     "user": {
      "displayName": "Москаленко В'ячеслав Васильович",
      "userId": "09799116143807457878"
     },
     "user_tz": -180
    },
    "id": "cLrcRmqqdQ-j",
    "outputId": "30c59767-3ddb-4c24-dae2-2806b2b4c520"
   },
   "outputs": [],
   "source": [
    "df = load_and_prepare_data()\n",
    "\n",
    "X = df.drop('CLASS', axis=1).values\n",
    "y = df.CLASS\n",
    "\n",
    "X_train, X_test, y_train, y_test = train_test_split(X, y, stratify=y, \n",
    "                                                    test_size=0.4, random_state=RANDOM_STATE)"
   ]
  },
  {
   "cell_type": "code",
   "execution_count": 45,
   "metadata": {
    "colab": {
     "base_uri": "https://localhost:8080/"
    },
    "executionInfo": {
     "elapsed": 220,
     "status": "ok",
     "timestamp": 1667161607851,
     "user": {
      "displayName": "Москаленко В'ячеслав Васильович",
      "userId": "09799116143807457878"
     },
     "user_tz": -180
    },
    "id": "3FPvb1JvdQ-n",
    "outputId": "df750fb8-a0af-4bc8-f18f-7458cf334180"
   },
   "outputs": [
    {
     "data": {
      "text/plain": [
       "CLASS\n",
       "0    12493\n",
       "1    10599\n",
       "2     1206\n",
       "3      513\n",
       "4       93\n",
       "5       54\n",
       "6       36\n",
       "7        6\n",
       "8        5\n",
       "9        5\n",
       "Name: count, dtype: int64"
      ]
     },
     "execution_count": 45,
     "metadata": {},
     "output_type": "execute_result"
    }
   ],
   "source": [
    "df.CLASS.value_counts()"
   ]
  },
  {
   "cell_type": "markdown",
   "metadata": {
    "id": "m6C19o47dQ-q"
   },
   "source": [
    "Почнемо з простого -- звичайний undersampling:"
   ]
  },
  {
   "cell_type": "code",
   "execution_count": 46,
   "metadata": {
    "colab": {
     "base_uri": "https://localhost:8080/"
    },
    "executionInfo": {
     "elapsed": 713,
     "status": "ok",
     "timestamp": 1667161610596,
     "user": {
      "displayName": "Москаленко В'ячеслав Васильович",
      "userId": "09799116143807457878"
     },
     "user_tz": -180
    },
    "id": "F3dgOmNGdQ-r",
    "outputId": "1f7371cc-3e28-4831-82a0-383375ab8d1d"
   },
   "outputs": [
    {
     "name": "stdout",
     "output_type": "stream",
     "text": [
      "              precision    recall  f1-score   support\n",
      "\n",
      "           0       0.52      0.63      0.57      4997\n",
      "           1       0.44      0.41      0.43      4240\n",
      "           2       0.11      0.01      0.02       482\n",
      "           3       0.11      0.00      0.01       205\n",
      "           4       0.00      0.00      0.00        37\n",
      "           5       0.83      0.86      0.84        22\n",
      "           6       0.00      0.00      0.00        14\n",
      "           7       0.00      0.00      0.00         3\n",
      "           8       0.00      0.00      0.00         2\n",
      "           9       0.00      0.00      0.00         2\n",
      "\n",
      "    accuracy                           0.49     10004\n",
      "   macro avg       0.20      0.19      0.19     10004\n",
      "weighted avg       0.46      0.49      0.47     10004\n",
      "\n"
     ]
    },
    {
     "name": "stderr",
     "output_type": "stream",
     "text": [
      "g:\\Dev\\intro_to_data_science\\.venv\\Lib\\site-packages\\sklearn\\metrics\\_classification.py:1531: UndefinedMetricWarning: Precision is ill-defined and being set to 0.0 in labels with no predicted samples. Use `zero_division` parameter to control this behavior.\n",
      "  _warn_prf(average, modifier, f\"{metric.capitalize()} is\", len(result))\n",
      "g:\\Dev\\intro_to_data_science\\.venv\\Lib\\site-packages\\sklearn\\metrics\\_classification.py:1531: UndefinedMetricWarning: Precision is ill-defined and being set to 0.0 in labels with no predicted samples. Use `zero_division` parameter to control this behavior.\n",
      "  _warn_prf(average, modifier, f\"{metric.capitalize()} is\", len(result))\n",
      "g:\\Dev\\intro_to_data_science\\.venv\\Lib\\site-packages\\sklearn\\metrics\\_classification.py:1531: UndefinedMetricWarning: Precision is ill-defined and being set to 0.0 in labels with no predicted samples. Use `zero_division` parameter to control this behavior.\n",
      "  _warn_prf(average, modifier, f\"{metric.capitalize()} is\", len(result))\n"
     ]
    }
   ],
   "source": [
    "clf = ExtraTreesClassifier(random_state=RANDOM_STATE)\n",
    "\n",
    "clf.fit(X_train, y_train)\n",
    "\n",
    "print(classification_report(y_test, clf.predict(X_test)))"
   ]
  },
  {
   "cell_type": "markdown",
   "metadata": {
    "id": "Elc2hvRUdQ-u"
   },
   "source": [
    "Уже неплохо (5,6 и 7 классы), но мы сильно просели по большим классам."
   ]
  },
  {
   "cell_type": "markdown",
   "metadata": {
    "id": "4jg-RePodQ-u"
   },
   "source": [
    "Попробуем [CondensedNearestNeighbour](http://machinelearning.org/proceedings/icml2005/papers/004_Fast_Angiulli.pdf):"
   ]
  },
  {
   "cell_type": "code",
   "execution_count": 30,
   "metadata": {
    "colab": {
     "base_uri": "https://localhost:8080/"
    },
    "executionInfo": {
     "elapsed": 5674,
     "status": "ok",
     "timestamp": 1667161620460,
     "user": {
      "displayName": "Москаленко В'ячеслав Васильович",
      "userId": "09799116143807457878"
     },
     "user_tz": -180
    },
    "id": "6AMMKWjBdQ-v",
    "outputId": "565a9bf3-6d2d-4560-f5fa-e77d0abafedc"
   },
   "outputs": [
    {
     "name": "stdout",
     "output_type": "stream",
     "text": [
      "Looking in indexes: https://pypi.org/simple, https://us-python.pkg.dev/colab-wheels/public/simple/\n",
      "Collecting mlrose\n",
      "  Downloading mlrose-1.3.0-py3-none-any.whl (27 kB)\n",
      "Collecting sklearn\n",
      "  Downloading sklearn-0.0.tar.gz (1.1 kB)\n",
      "Requirement already satisfied: numpy in /usr/local/lib/python3.7/dist-packages (from mlrose) (1.21.6)\n",
      "Requirement already satisfied: scipy in /usr/local/lib/python3.7/dist-packages (from mlrose) (1.7.3)\n",
      "Requirement already satisfied: scikit-learn in /usr/local/lib/python3.7/dist-packages (from sklearn->mlrose) (0.21.3)\n",
      "Requirement already satisfied: joblib>=0.11 in /usr/local/lib/python3.7/dist-packages (from scikit-learn->sklearn->mlrose) (1.2.0)\n",
      "Building wheels for collected packages: sklearn\n",
      "  Building wheel for sklearn (setup.py) ... \u001b[?25l\u001b[?25hdone\n",
      "  Created wheel for sklearn: filename=sklearn-0.0-py2.py3-none-any.whl size=1310 sha256=4322b34728a9e179e9d209952b96b8878ca986de8e0d3bb0e39895aa44af2833\n",
      "  Stored in directory: /root/.cache/pip/wheels/46/ef/c3/157e41f5ee1372d1be90b09f74f82b10e391eaacca8f22d33e\n",
      "Successfully built sklearn\n",
      "Installing collected packages: sklearn, mlrose\n",
      "Successfully installed mlrose-1.3.0 sklearn-0.0\n"
     ]
    }
   ],
   "source": [
    "# !pip install mlrose"
   ]
  },
  {
   "cell_type": "code",
   "execution_count": 47,
   "metadata": {
    "executionInfo": {
     "elapsed": 11,
     "status": "ok",
     "timestamp": 1667161620463,
     "user": {
      "displayName": "Москаленко В'ячеслав Васильович",
      "userId": "09799116143807457878"
     },
     "user_tz": -180
    },
    "id": "sQXNVLIFdQ-x"
   },
   "outputs": [],
   "source": [
    "import six\n",
    "import sys\n",
    "sys.modules['sklearn.externals.six'] = six\n",
    "import mlrose_ky as mlrose"
   ]
  },
  {
   "cell_type": "code",
   "execution_count": 38,
   "metadata": {
    "colab": {
     "base_uri": "https://localhost:8080/",
     "height": 408
    },
    "executionInfo": {
     "elapsed": 10902,
     "status": "ok",
     "timestamp": 1667161802621,
     "user": {
      "displayName": "Москаленко В'ячеслав Васильович",
      "userId": "09799116143807457878"
     },
     "user_tz": -180
    },
    "id": "ftCV8OinlAFt",
    "outputId": "a3fbaf83-d6ca-48da-d2ec-cab3798fca6e"
   },
   "outputs": [
    {
     "name": "stdout",
     "output_type": "stream",
     "text": [
      "Looking in indexes: https://pypi.org/simple, https://us-python.pkg.dev/colab-wheels/public/simple/\n",
      "Collecting scikit-learn==0.21.1\n",
      "  Downloading scikit_learn-0.21.1-cp37-cp37m-manylinux1_x86_64.whl (6.7 MB)\n",
      "\u001b[K     |████████████████████████████████| 6.7 MB 5.6 MB/s \n",
      "\u001b[?25hRequirement already satisfied: numpy>=1.11.0 in /usr/local/lib/python3.7/dist-packages (from scikit-learn==0.21.1) (1.21.6)\n",
      "Requirement already satisfied: scipy>=0.17.0 in /usr/local/lib/python3.7/dist-packages (from scikit-learn==0.21.1) (1.7.3)\n",
      "Requirement already satisfied: joblib>=0.11 in /usr/local/lib/python3.7/dist-packages (from scikit-learn==0.21.1) (1.2.0)\n",
      "Installing collected packages: scikit-learn\n",
      "  Attempting uninstall: scikit-learn\n",
      "    Found existing installation: scikit-learn 0.24.1\n",
      "    Uninstalling scikit-learn-0.24.1:\n",
      "      Successfully uninstalled scikit-learn-0.24.1\n",
      "\u001b[31mERROR: pip's dependency resolver does not currently take into account all the packages that are installed. This behaviour is the source of the following dependency conflicts.\n",
      "yellowbrick 1.5 requires scikit-learn>=1.0.0, but you have scikit-learn 0.21.1 which is incompatible.\n",
      "imbalanced-learn 0.9.0 requires scikit-learn>=1.0.1, but you have scikit-learn 0.21.1 which is incompatible.\u001b[0m\n",
      "Successfully installed scikit-learn-0.21.1\n"
     ]
    },
    {
     "data": {
      "application/vnd.colab-display-data+json": {
       "pip_warning": {
        "packages": [
         "sklearn"
        ]
       }
      }
     },
     "metadata": {},
     "output_type": "display_data"
    }
   ],
   "source": [
    "# !pip install scikit-learn==0.21.1"
   ]
  },
  {
   "cell_type": "code",
   "execution_count": 48,
   "metadata": {
    "colab": {
     "base_uri": "https://localhost:8080/",
     "height": 529
    },
    "executionInfo": {
     "elapsed": 329,
     "status": "error",
     "timestamp": 1667161807811,
     "user": {
      "displayName": "Москаленко В'ячеслав Васильович",
      "userId": "09799116143807457878"
     },
     "user_tz": -180
    },
    "id": "rwrSA6_YdQ-1",
    "outputId": "51621fa9-5da8-4309-d0f2-69e22a3b99df"
   },
   "outputs": [
    {
     "name": "stdout",
     "output_type": "stream",
     "text": [
      "              precision    recall  f1-score   support\n",
      "\n",
      "           0       0.51      0.21      0.29      4997\n",
      "           1       0.43      0.44      0.44      4240\n",
      "           2       0.06      0.24      0.09       482\n",
      "           3       0.02      0.08      0.03       205\n",
      "           4       0.00      0.00      0.00        37\n",
      "           5       0.17      0.82      0.28        22\n",
      "           6       0.00      0.00      0.00        14\n",
      "           7       0.00      0.00      0.00         3\n",
      "           8       0.00      0.00      0.00         2\n",
      "           9       0.00      0.00      0.00         2\n",
      "\n",
      "    accuracy                           0.31     10004\n",
      "   macro avg       0.12      0.18      0.11     10004\n",
      "weighted avg       0.44      0.31      0.34     10004\n",
      "\n"
     ]
    }
   ],
   "source": [
    "from imblearn.under_sampling import CondensedNearestNeighbour, RandomUnderSampler\n",
    "from imblearn.pipeline import make_pipeline\n",
    "\n",
    "pipe = make_pipeline(CondensedNearestNeighbour(random_state=RANDOM_STATE), \n",
    "                     ExtraTreesClassifier(random_state=RANDOM_STATE))\n",
    "\n",
    "pipe.fit(X_train, y_train)\n",
    "\n",
    "print(classification_report(y_test, pipe.predict(X_test)))"
   ]
  },
  {
   "cell_type": "markdown",
   "metadata": {
    "id": "BL4I_aLwdQ-5"
   },
   "source": [
    "Вже краще, ми знову бачимо великі класи!"
   ]
  },
  {
   "cell_type": "markdown",
   "metadata": {
    "id": "6V71lsBZdQ-5"
   },
   "source": [
    "Варто відмітити, що багато з методів, доступних в imbalanced-learn не працюють для мультикласової постановки задачі. Тому повернемося до бінарної постановки для демонстрації підходу over-sampling."
   ]
  },
  {
   "cell_type": "code",
   "execution_count": 49,
   "metadata": {
    "colab": {
     "base_uri": "https://localhost:8080/",
     "height": 54
    },
    "executionInfo": {
     "elapsed": 681,
     "status": "ok",
     "timestamp": 1602718932433,
     "user": {
      "displayName": "Москаленко В'ячеслав Васильович",
      "photoUrl": "https://lh3.googleusercontent.com/a-/AOh14GiN6Jzqki0z69x3j5PLOje08fXCxR7L_CW7QtyNXg=s64",
      "userId": "09799116143807457878"
     },
     "user_tz": -180
    },
    "id": "bMJ8_N8ZdQ-5",
    "outputId": "782d8ed0-d665-4253-bca6-ebde6df06d26"
   },
   "outputs": [
    {
     "name": "stdout",
     "output_type": "stream",
     "text": [
      "After merging classes {0, 1, 2, 3} -> 0 and {4, 5, 6, 7, 8, 9} -> 1 \n",
      "\n"
     ]
    }
   ],
   "source": [
    "df = load_and_prepare_data()\n",
    "binary_y = make_binary(df.CLASS, set((4, 5, 6, 7, 8, 9)))\n",
    "\n",
    "print(\"After merging classes {0, 1, 2, 3} -> 0 and {4, 5, 6, 7, 8, 9} -> 1 \\n\")\n",
    "\n",
    "np.unique(binary_y, return_counts=True)\n",
    "X = df.drop('CLASS', axis=1).values\n",
    "y = binary_y\n",
    "\n",
    "X_train, X_test, y_train, y_test = train_test_split(X, y, stratify=y, \n",
    "                                                    test_size=0.4, random_state=RANDOM_STATE)"
   ]
  },
  {
   "cell_type": "code",
   "execution_count": 50,
   "metadata": {
    "colab": {
     "base_uri": "https://localhost:8080/",
     "height": 183
    },
    "executionInfo": {
     "elapsed": 2489,
     "status": "ok",
     "timestamp": 1602718938398,
     "user": {
      "displayName": "Москаленко В'ячеслав Васильович",
      "photoUrl": "https://lh3.googleusercontent.com/a-/AOh14GiN6Jzqki0z69x3j5PLOje08fXCxR7L_CW7QtyNXg=s64",
      "userId": "09799116143807457878"
     },
     "user_tz": -180
    },
    "id": "6NxEZQaAdQ-9",
    "outputId": "b4dfd421-6c53-423f-cb79-75cfbe2c6284"
   },
   "outputs": [
    {
     "name": "stdout",
     "output_type": "stream",
     "text": [
      "              precision    recall  f1-score   support\n",
      "\n",
      "           0       0.99      1.00      1.00      9924\n",
      "           1       0.91      0.26      0.41        80\n",
      "\n",
      "    accuracy                           0.99     10004\n",
      "   macro avg       0.95      0.63      0.70     10004\n",
      "weighted avg       0.99      0.99      0.99     10004\n",
      "\n"
     ]
    }
   ],
   "source": [
    "from imblearn.over_sampling import RandomOverSampler\n",
    "\n",
    "pipe = make_pipeline(RandomOverSampler(random_state=RANDOM_STATE), \n",
    "                     ExtraTreesClassifier(random_state=RANDOM_STATE))\n",
    "\n",
    "pipe.fit(X_train, y_train)\n",
    "\n",
    "print(classification_report(y_test, pipe.predict(X_test)))"
   ]
  },
  {
   "cell_type": "markdown",
   "metadata": {
    "id": "1SOAWQprdQ-_"
   },
   "source": [
    "Навіть звичайний over-sampling справился непогано."
   ]
  },
  {
   "cell_type": "code",
   "execution_count": 51,
   "metadata": {
    "colab": {
     "base_uri": "https://localhost:8080/",
     "height": 183
    },
    "executionInfo": {
     "elapsed": 2957,
     "status": "ok",
     "timestamp": 1602718946869,
     "user": {
      "displayName": "Москаленко В'ячеслав Васильович",
      "photoUrl": "https://lh3.googleusercontent.com/a-/AOh14GiN6Jzqki0z69x3j5PLOje08fXCxR7L_CW7QtyNXg=s64",
      "userId": "09799116143807457878"
     },
     "user_tz": -180
    },
    "id": "_9nFOHbfdQ_A",
    "outputId": "384b460a-add0-4933-a1ab-5ddaecd9f745"
   },
   "outputs": [
    {
     "name": "stdout",
     "output_type": "stream",
     "text": [
      "              precision    recall  f1-score   support\n",
      "\n",
      "           0       0.99      1.00      1.00      9924\n",
      "           1       0.88      0.26      0.40        80\n",
      "\n",
      "    accuracy                           0.99     10004\n",
      "   macro avg       0.93      0.63      0.70     10004\n",
      "weighted avg       0.99      0.99      0.99     10004\n",
      "\n"
     ]
    }
   ],
   "source": [
    "from imblearn.over_sampling import SMOTE\n",
    "\n",
    "pipe = make_pipeline(SMOTE(random_state=RANDOM_STATE), \n",
    "                     ExtraTreesClassifier(random_state=RANDOM_STATE))\n",
    "\n",
    "pipe.fit(X_train, y_train)\n",
    "\n",
    "print(classification_report(y_test, pipe.predict(X_test)))"
   ]
  },
  {
   "cell_type": "markdown",
   "metadata": {
    "id": "xqZWMjPLdQ_E"
   },
   "source": [
    "Варто відмітити, що imblearn має свою функцію оцінки якості моделі, що включає precision, recall, specificity (true negative rate), f1, геометричне середнє recall (sensitivity) і specificity, а також index balanced [accuracy](http://repositori.uji.es/xmlui/bitstream/handle/10234/23961/33068.pdf?sequence=1).\n",
    "\n",
    "Останній розраховується наступним чином:\n",
    "\n",
    "$$ IBA = (1 + Dominance)· Gmean^2 ,$$\n",
    "    де\n",
    "$$ Dominance = True Positive Rate - True Negative Rate $$"
   ]
  },
  {
   "cell_type": "code",
   "execution_count": 52,
   "metadata": {
    "colab": {
     "base_uri": "https://localhost:8080/",
     "height": 146
    },
    "executionInfo": {
     "elapsed": 611,
     "status": "ok",
     "timestamp": 1602718953014,
     "user": {
      "displayName": "Москаленко В'ячеслав Васильович",
      "photoUrl": "https://lh3.googleusercontent.com/a-/AOh14GiN6Jzqki0z69x3j5PLOje08fXCxR7L_CW7QtyNXg=s64",
      "userId": "09799116143807457878"
     },
     "user_tz": -180
    },
    "id": "Xw6Kr0FrdQ_F",
    "outputId": "e9c074d8-100c-4008-ad87-6b26951600f8"
   },
   "outputs": [
    {
     "name": "stdout",
     "output_type": "stream",
     "text": [
      "                   pre       rec       spe        f1       geo       iba       sup\n",
      "\n",
      "          0       0.99      1.00      0.26      1.00      0.51      0.28      9924\n",
      "          1       0.88      0.26      1.00      0.40      0.51      0.24        80\n",
      "\n",
      "avg / total       0.99      0.99      0.27      0.99      0.51      0.28     10004\n",
      "\n"
     ]
    }
   ],
   "source": [
    "from imblearn.metrics import classification_report_imbalanced\n",
    "\n",
    "print(classification_report_imbalanced(y_test, pipe.predict(X_test)))"
   ]
  },
  {
   "cell_type": "markdown",
   "metadata": {
    "id": "xY88JdLBdQ_H"
   },
   "source": [
    "Наостанок побудуємо ROC-криві для деяких методів."
   ]
  },
  {
   "cell_type": "code",
   "execution_count": 53,
   "metadata": {
    "id": "7DJZ95rQdQ_J"
   },
   "outputs": [],
   "source": [
    "class DummySampler(object):\n",
    "\n",
    "    def fit(self, X, y):\n",
    "        return self\n",
    "\n",
    "    def fit_sample(self, X, y):\n",
    "        return X, y \n",
    "    \n",
    "    def fit_resample(self, X, y):\n",
    "        return X, y "
   ]
  },
  {
   "cell_type": "code",
   "execution_count": 54,
   "metadata": {
    "colab": {
     "base_uri": "https://localhost:8080/",
     "height": 523
    },
    "executionInfo": {
     "elapsed": 7217,
     "status": "ok",
     "timestamp": 1602718967721,
     "user": {
      "displayName": "Москаленко В'ячеслав Васильович",
      "photoUrl": "https://lh3.googleusercontent.com/a-/AOh14GiN6Jzqki0z69x3j5PLOje08fXCxR7L_CW7QtyNXg=s64",
      "userId": "09799116143807457878"
     },
     "user_tz": -180
    },
    "id": "ahD2Dp9OdQ_a",
    "outputId": "a1cadac7-0406-49ab-b592-858fbe50a87c"
   },
   "outputs": [
    {
     "data": {
      "image/png": "[encoded data removed]",
      "text/plain": [
       "<Figure size 1000x800 with 1 Axes>"
      ]
     },
     "metadata": {},
     "output_type": "display_data"
    }
   ],
   "source": [
    "classifier = ['ExtraTreesClassifier', ExtraTreesClassifier()]\n",
    "\n",
    "samplers = [\n",
    "    ['Standard',           DummySampler()],\n",
    "    ['SMOTE',              SMOTE(random_state=RANDOM_STATE)],\n",
    "    ['RandomOverSampler',  RandomOverSampler(random_state=RANDOM_STATE)],\n",
    "    ['RandomUnderSampler', RandomUnderSampler(random_state=RANDOM_STATE)]\n",
    "]\n",
    "\n",
    "pipelines = [\n",
    "    ['{}-{}'.format(sampler[0], classifier[0]),\n",
    "     make_pipeline(sampler[1], classifier[1])]\n",
    "    for sampler in samplers\n",
    "]\n",
    "\n",
    "fig = plt.figure()\n",
    "ax = fig.add_subplot(1, 1, 1)\n",
    "\n",
    "for name, clf in pipelines:\n",
    "    \n",
    "    clf.fit(X_train, y_train)\n",
    "    fpr, tpr, thresholds = roc_curve(y_test, clf.predict_proba(X_test)[:, 1])\n",
    "    roc_auc = roc_auc_score(y_test, clf.predict_proba(X_test)[:, 1])\n",
    "    plt.plot(fpr, tpr, linestyle='-',\n",
    "             label='{} (area = %0.2f)'.format(name) % roc_auc)\n",
    "    \n",
    "plt.plot([0, 1], [0, 1], linestyle='--', color='k',\n",
    "         label='Random')    \n",
    "ax.spines['top'].set_visible(False)\n",
    "ax.spines['right'].set_visible(False)\n",
    "ax.get_xaxis().tick_bottom()\n",
    "ax.get_yaxis().tick_left()\n",
    "ax.spines['left'].set_position(('outward', 10))\n",
    "ax.spines['bottom'].set_position(('outward', 10))\n",
    "plt.xlim([0, 1])\n",
    "plt.ylim([0, 1])\n",
    "plt.xlabel('False Positive Rate')\n",
    "plt.ylabel('True Positive Rate')\n",
    "plt.title('Receiver operating characteristic')\n",
    "\n",
    "plt.legend(loc=\"lower right\")\n",
    "\n",
    "plt.show()    "
   ]
  }
 ],
 "metadata": {
  "anaconda-cloud": {},
  "colab": {
   "collapsed_sections": [],
   "provenance": []
  },
  "kernelspec": {
   "display_name": ".venv",
   "language": "python",
   "name": "python3"
  },
  "language_info": {
   "codemirror_mode": {
    "name": "ipython",
    "version": 3
   },
   "file_extension": ".py",
   "mimetype": "text/x-python",
   "name": "python",
   "nbconvert_exporter": "python",
   "pygments_lexer": "ipython3",
   "version": "3.12.4"
  }
 },
 "nbformat": 4,
 "nbformat_minor": 0
}
